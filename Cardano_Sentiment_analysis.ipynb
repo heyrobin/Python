{
  "nbformat": 4,
  "nbformat_minor": 0,
  "metadata": {
    "colab": {
      "name": "Bitcoin Sentiment analysis.ipynb",
      "provenance": [],
      "collapsed_sections": [],
      "authorship_tag": "ABX9TyOXIgeSGSlb51rRryrAA55f",
      "include_colab_link": true
    },
    "kernelspec": {
      "name": "python3",
      "display_name": "Python 3"
    },
    "language_info": {
      "name": "python"
    }
  },
  "cells": [
    {
      "cell_type": "markdown",
      "metadata": {
        "id": "view-in-github",
        "colab_type": "text"
      },
      "source": [
        "<a href=\"https://colab.research.google.com/github/heyrobin/Python/blob/main/Bitcoin_Sentiment_analysis.ipynb\" target=\"_parent\"><img src=\"https://colab.research.google.com/assets/colab-badge.svg\" alt=\"Open In Colab\"/></a>"
      ]
    },
    {
      "cell_type": "code",
      "metadata": {
        "id": "rtLpsclklCUl"
      },
      "source": [
        "#importing libraries\n",
        "import tweepy\n",
        "from textblob import TextBlob\n",
        "import numpy as np\n",
        "import pandas as pd\n",
        "import re\n",
        "import matplotlib.pyplot as plt\n",
        "plt.style.use('fivethirtyeight')\n"
      ],
      "execution_count": 22,
      "outputs": []
    },
    {
      "cell_type": "code",
      "metadata": {
        "id": "V-OQzv26lNpO"
      },
      "source": [
        "#importing keys to authenticate the access twitter API\n",
        "#connect as OATH handler\n",
        "consumer_key = \"8AO6OU5ubyi4XO47b1C7Sjdlz\"\n",
        "consumer_sec = \"FS1usPrfPolvjLXbwGka5N8TWkOZhUsdxGmmTwuO016koesUSt\"\n",
        "\n",
        "# from proxy server we need to connect\n",
        "access_token = \"1151573806680592384-OUFeUtpsRFZM6jQxl1AG99NEjlY0Kt\"\n",
        "access_token_sec = \"KKHmkHkDGVaDof8XK4fKKI52DmNl4vZlaXnx85WRfd4Lr\"\n"
      ],
      "execution_count": 23,
      "outputs": []
    },
    {
      "cell_type": "code",
      "metadata": {
        "colab": {
          "base_uri": "https://localhost:8080/"
        },
        "id": "LbjtUCQzLmNr",
        "outputId": "198acd37-8617-4455-ba10-78fed88f5685"
      },
      "source": [
        "#explore tweepy\n",
        "dir(tweepy)"
      ],
      "execution_count": 24,
      "outputs": [
        {
          "output_type": "execute_result",
          "data": {
            "text/plain": [
              "['API',\n",
              " 'AppAuthHandler',\n",
              " 'Cache',\n",
              " 'Cursor',\n",
              " 'DirectMessage',\n",
              " 'FileCache',\n",
              " 'Friendship',\n",
              " 'MemoryCache',\n",
              " 'ModelFactory',\n",
              " 'OAuthHandler',\n",
              " 'RateLimitError',\n",
              " 'SavedSearch',\n",
              " 'SearchResults',\n",
              " 'Status',\n",
              " 'Stream',\n",
              " 'StreamListener',\n",
              " 'TweepError',\n",
              " 'User',\n",
              " '__author__',\n",
              " '__builtins__',\n",
              " '__cached__',\n",
              " '__doc__',\n",
              " '__file__',\n",
              " '__license__',\n",
              " '__loader__',\n",
              " '__name__',\n",
              " '__package__',\n",
              " '__path__',\n",
              " '__spec__',\n",
              " '__version__',\n",
              " 'api',\n",
              " 'auth',\n",
              " 'binder',\n",
              " 'cache',\n",
              " 'cursor',\n",
              " 'debug',\n",
              " 'error',\n",
              " 'models',\n",
              " 'parsers',\n",
              " 'streaming',\n",
              " 'utils']"
            ]
          },
          "metadata": {
            "tags": []
          },
          "execution_count": 24
        }
      ]
    },
    {
      "cell_type": "code",
      "metadata": {
        "id": "F5RpZWhNL-ST"
      },
      "source": [
        "#creating authentication object\n",
        "authenticate = tweepy.OAuthHandler(consumer_key,consumer_sec)\n",
        "#set the access token and the access token secret\n",
        "authenticate.set_access_token(access_token,access_token_sec)\n",
        "#create the API object\n",
        "api = tweepy.API(authenticate)"
      ],
      "execution_count": null,
      "outputs": []
    },
    {
      "cell_type": "code",
      "metadata": {
        "id": "Pw7qdmiuNYr1"
      },
      "source": [
        "#Gather 1000 tweets about cardano and filter out any retweets\n",
        "search_term = '#cardano -filter:retweets'\n",
        "#Create a cursor object\n",
        "tweets = tweepy.Cursor(api.search, q=search_term, lang='en', since='2021-01-01',tweet_mode= 'extended').items(2000)\n",
        "#store the tweets in variable and get the full text\n",
        "all_tweets = [tweet.full_text for tweet in tweets]"
      ],
      "execution_count": null,
      "outputs": []
    },
    {
      "cell_type": "code",
      "metadata": {
        "id": "OTF34g55PVa1",
        "colab": {
          "base_uri": "https://localhost:8080/",
          "height": 359
        },
        "outputId": "5d563178-6017-4e42-f54c-1b3e5c176200"
      },
      "source": [
        "#create a dataframe to store the tweets with a column called 'Tweets'\n",
        "df = pd.DataFrame(all_tweets, columns=['Tweets'])\n",
        "df.head(10)"
      ],
      "execution_count": null,
      "outputs": [
        {
          "output_type": "execute_result",
          "data": {
            "text/html": [
              "<div>\n",
              "<style scoped>\n",
              "    .dataframe tbody tr th:only-of-type {\n",
              "        vertical-align: middle;\n",
              "    }\n",
              "\n",
              "    .dataframe tbody tr th {\n",
              "        vertical-align: top;\n",
              "    }\n",
              "\n",
              "    .dataframe thead th {\n",
              "        text-align: right;\n",
              "    }\n",
              "</style>\n",
              "<table border=\"1\" class=\"dataframe\">\n",
              "  <thead>\n",
              "    <tr style=\"text-align: right;\">\n",
              "      <th></th>\n",
              "      <th>Tweets</th>\n",
              "    </tr>\n",
              "  </thead>\n",
              "  <tbody>\n",
              "    <tr>\n",
              "      <th>0</th>\n",
              "      <td>Cardano (ADA) Price Analysis: Trading Near Cru...</td>\n",
              "    </tr>\n",
              "    <tr>\n",
              "      <th>1</th>\n",
              "      <td>I just sold all of my #Cardano #ADA for the be...</td>\n",
              "    </tr>\n",
              "    <tr>\n",
              "      <th>2</th>\n",
              "      <td>We are working with the Ethiopian government t...</td>\n",
              "    </tr>\n",
              "    <tr>\n",
              "      <th>3</th>\n",
              "      <td>Is it your time dogecoin omg its going up \\n#d...</td>\n",
              "    </tr>\n",
              "    <tr>\n",
              "      <th>4</th>\n",
              "      <td>Cardano ADA Current Price:\\n$1.1887\\n1 Hour: -...</td>\n",
              "    </tr>\n",
              "    <tr>\n",
              "      <th>5</th>\n",
              "      <td>Its going up dogecoin go look \\n#dogecoin #BAT...</td>\n",
              "    </tr>\n",
              "    <tr>\n",
              "      <th>6</th>\n",
              "      <td>Elon musk its your time to move on dogecoin lo...</td>\n",
              "    </tr>\n",
              "    <tr>\n",
              "      <th>7</th>\n",
              "      <td>PMLX was there with ♥️, proudly under @IOHK_Ch...</td>\n",
              "    </tr>\n",
              "    <tr>\n",
              "      <th>8</th>\n",
              "      <td>Did you buy dogecoin go go go go now!!!!!!\\n#d...</td>\n",
              "    </tr>\n",
              "    <tr>\n",
              "      <th>9</th>\n",
              "      <td>@WiseCapital3 @Immortalxplorer Who is spreadin...</td>\n",
              "    </tr>\n",
              "  </tbody>\n",
              "</table>\n",
              "</div>"
            ],
            "text/plain": [
              "                                              Tweets\n",
              "0  Cardano (ADA) Price Analysis: Trading Near Cru...\n",
              "1  I just sold all of my #Cardano #ADA for the be...\n",
              "2  We are working with the Ethiopian government t...\n",
              "3  Is it your time dogecoin omg its going up \\n#d...\n",
              "4  Cardano ADA Current Price:\\n$1.1887\\n1 Hour: -...\n",
              "5  Its going up dogecoin go look \\n#dogecoin #BAT...\n",
              "6  Elon musk its your time to move on dogecoin lo...\n",
              "7  PMLX was there with ♥️, proudly under @IOHK_Ch...\n",
              "8  Did you buy dogecoin go go go go now!!!!!!\\n#d...\n",
              "9  @WiseCapital3 @Immortalxplorer Who is spreadin..."
            ]
          },
          "metadata": {
            "tags": []
          },
          "execution_count": 17
        }
      ]
    },
    {
      "cell_type": "code",
      "metadata": {
        "id": "ecE6KP2CQDNO"
      },
      "source": [
        "#Create a function to clean the tweets\n",
        "def cleanTwt(twt):\n",
        "  twt = re.sub('#cardano', 'cardano', twt)\n",
        "  twt = re.sub('#Cardano', 'Cardano', twt)\n",
        "  twt = re.sub('#[A-Za-z0-9]+', '', twt)\n",
        "  twt = re.sub('\\\\n', '', twt)\n",
        "  twt = re.sub('https?:\\/\\/\\S+','', twt) #removes any hyperlinks\n",
        "  return twt\n"
      ],
      "execution_count": null,
      "outputs": []
    },
    {
      "cell_type": "code",
      "metadata": {
        "id": "PATFwMSrSCcP",
        "colab": {
          "base_uri": "https://localhost:8080/",
          "height": 359
        },
        "outputId": "cc8b056e-d5e6-406f-bad0-71db6e482e79"
      },
      "source": [
        "#Clean the tweets\n",
        "df['Cleaned_Tweets'] = df['Tweets'].apply(cleanTwt)\n",
        "#result\n",
        "df.head(10)"
      ],
      "execution_count": null,
      "outputs": [
        {
          "output_type": "execute_result",
          "data": {
            "text/html": [
              "<div>\n",
              "<style scoped>\n",
              "    .dataframe tbody tr th:only-of-type {\n",
              "        vertical-align: middle;\n",
              "    }\n",
              "\n",
              "    .dataframe tbody tr th {\n",
              "        vertical-align: top;\n",
              "    }\n",
              "\n",
              "    .dataframe thead th {\n",
              "        text-align: right;\n",
              "    }\n",
              "</style>\n",
              "<table border=\"1\" class=\"dataframe\">\n",
              "  <thead>\n",
              "    <tr style=\"text-align: right;\">\n",
              "      <th></th>\n",
              "      <th>Tweets</th>\n",
              "      <th>Cleaned_Tweets</th>\n",
              "    </tr>\n",
              "  </thead>\n",
              "  <tbody>\n",
              "    <tr>\n",
              "      <th>0</th>\n",
              "      <td>Cardano (ADA) Price Analysis: Trading Near Cru...</td>\n",
              "      <td>Cardano (ADA) Price Analysis: Trading Near Cru...</td>\n",
              "    </tr>\n",
              "    <tr>\n",
              "      <th>1</th>\n",
              "      <td>I just sold all of my #Cardano #ADA for the be...</td>\n",
              "      <td>I just sold all of my Cardano  for the better,...</td>\n",
              "    </tr>\n",
              "    <tr>\n",
              "      <th>2</th>\n",
              "      <td>We are working with the Ethiopian government t...</td>\n",
              "      <td>We are working with the Ethiopian government t...</td>\n",
              "    </tr>\n",
              "    <tr>\n",
              "      <th>3</th>\n",
              "      <td>Is it your time dogecoin omg its going up \\n#d...</td>\n",
              "      <td>Is it your time dogecoin omg its going up    C...</td>\n",
              "    </tr>\n",
              "    <tr>\n",
              "      <th>4</th>\n",
              "      <td>Cardano ADA Current Price:\\n$1.1887\\n1 Hour: -...</td>\n",
              "      <td>Cardano ADA Current Price:$1.18871 Hour: -0.81...</td>\n",
              "    </tr>\n",
              "    <tr>\n",
              "      <th>5</th>\n",
              "      <td>Its going up dogecoin go look \\n#dogecoin #BAT...</td>\n",
              "      <td>Its going up dogecoin go look    Cardano      ...</td>\n",
              "    </tr>\n",
              "    <tr>\n",
              "      <th>6</th>\n",
              "      <td>Elon musk its your time to move on dogecoin lo...</td>\n",
              "      <td>Elon musk its your time to move on dogecoin lo...</td>\n",
              "    </tr>\n",
              "    <tr>\n",
              "      <th>7</th>\n",
              "      <td>PMLX was there with ♥️, proudly under @IOHK_Ch...</td>\n",
              "      <td>PMLX was there with ♥️, proudly under @IOHK_Ch...</td>\n",
              "    </tr>\n",
              "    <tr>\n",
              "      <th>8</th>\n",
              "      <td>Did you buy dogecoin go go go go now!!!!!!\\n#d...</td>\n",
              "      <td>Did you buy dogecoin go go go go now!!!!!!   C...</td>\n",
              "    </tr>\n",
              "    <tr>\n",
              "      <th>9</th>\n",
              "      <td>@WiseCapital3 @Immortalxplorer Who is spreadin...</td>\n",
              "      <td>@WiseCapital3 @Immortalxplorer Who is spreadin...</td>\n",
              "    </tr>\n",
              "  </tbody>\n",
              "</table>\n",
              "</div>"
            ],
            "text/plain": [
              "                                              Tweets                                     Cleaned_Tweets\n",
              "0  Cardano (ADA) Price Analysis: Trading Near Cru...  Cardano (ADA) Price Analysis: Trading Near Cru...\n",
              "1  I just sold all of my #Cardano #ADA for the be...  I just sold all of my Cardano  for the better,...\n",
              "2  We are working with the Ethiopian government t...  We are working with the Ethiopian government t...\n",
              "3  Is it your time dogecoin omg its going up \\n#d...  Is it your time dogecoin omg its going up    C...\n",
              "4  Cardano ADA Current Price:\\n$1.1887\\n1 Hour: -...  Cardano ADA Current Price:$1.18871 Hour: -0.81...\n",
              "5  Its going up dogecoin go look \\n#dogecoin #BAT...  Its going up dogecoin go look    Cardano      ...\n",
              "6  Elon musk its your time to move on dogecoin lo...  Elon musk its your time to move on dogecoin lo...\n",
              "7  PMLX was there with ♥️, proudly under @IOHK_Ch...  PMLX was there with ♥️, proudly under @IOHK_Ch...\n",
              "8  Did you buy dogecoin go go go go now!!!!!!\\n#d...  Did you buy dogecoin go go go go now!!!!!!   C...\n",
              "9  @WiseCapital3 @Immortalxplorer Who is spreadin...  @WiseCapital3 @Immortalxplorer Who is spreadin..."
            ]
          },
          "metadata": {
            "tags": []
          },
          "execution_count": 21
        }
      ]
    },
    {
      "cell_type": "code",
      "metadata": {
        "id": "HFBhUz93SWtO"
      },
      "source": [
        "#Create a function to get the subjectivity\n",
        "def getSubjectivity(twt):"
      ],
      "execution_count": null,
      "outputs": []
    }
  ]
}