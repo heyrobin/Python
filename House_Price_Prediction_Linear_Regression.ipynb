{
  "nbformat": 4,
  "nbformat_minor": 0,
  "metadata": {
    "colab": {
      "name": "House Price Prediction - Linear Regression.ipynb",
      "provenance": [],
      "authorship_tag": "ABX9TyPIIFpAZFYdR96ik7HRtPI2",
      "include_colab_link": true
    },
    "kernelspec": {
      "name": "python3",
      "display_name": "Python 3"
    },
    "language_info": {
      "name": "python"
    }
  },
  "cells": [
    {
      "cell_type": "markdown",
      "metadata": {
        "id": "view-in-github",
        "colab_type": "text"
      },
      "source": [
        "<a href=\"https://colab.research.google.com/github/heyrobin/Python/blob/main/House_Price_Prediction_Linear_Regression.ipynb\" target=\"_parent\"><img src=\"https://colab.research.google.com/assets/colab-badge.svg\" alt=\"Open In Colab\"/></a>"
      ]
    },
    {
      "cell_type": "code",
      "metadata": {
        "id": "KoR3rlVKPARq"
      },
      "source": [
        "#https://www.mathsisfun.com/algebra/linear-equations.html"
      ],
      "execution_count": 2,
      "outputs": []
    },
    {
      "cell_type": "code",
      "metadata": {
        "id": "vkjwxI9sPfHN"
      },
      "source": [
        "#import dependencies\n",
        "import pandas as pd\n",
        "import numpy as np\n",
        "from sklearn import linear_model\n",
        "from sklearn.model_selection import train_test_split\n"
      ],
      "execution_count": 5,
      "outputs": []
    },
    {
      "cell_type": "code",
      "metadata": {
        "id": "Vk-8R9BWQQBw"
      },
      "source": [
        "# Loda housing dataset\n",
        "from sklearn.datasets import load_boston\n",
        "boston = load_boston()\n",
        "print(boston)"
      ],
      "execution_count": null,
      "outputs": []
    },
    {
      "cell_type": "code",
      "metadata": {
        "id": "us-I7LUyQesE"
      },
      "source": [
        "# Transform the dataset into a DataFarame\n",
        "# data = the data we want or the independent variable also known as x values\n",
        "# feature_name = the column name of the data\n",
        "# target = the target variable or the price of the houses or dependent variable also known as the y value\n",
        "\n",
        "df_x = pd.DataFrame(boston.data, columns=boston.feature_names)\n",
        "df_y = pd.DataFrame(boston.target)"
      ],
      "execution_count": 11,
      "outputs": []
    },
    {
      "cell_type": "code",
      "metadata": {
        "id": "jS8hWpcESaZl"
      },
      "source": [
        "#get some stats form the dataset\n",
        "df_x.describe()"
      ],
      "execution_count": null,
      "outputs": []
    },
    {
      "cell_type": "code",
      "metadata": {
        "id": "rA6mn8Jpanof"
      },
      "source": [
        "df_y.describe()"
      ],
      "execution_count": null,
      "outputs": []
    },
    {
      "cell_type": "code",
      "metadata": {
        "id": "xdwECKTgatQu"
      },
      "source": [
        "# initialize the linear regression model\n",
        "reg = linear_model.LinearRegression()"
      ],
      "execution_count": 15,
      "outputs": []
    },
    {
      "cell_type": "code",
      "metadata": {
        "id": "EmYqKb7QbHUH"
      },
      "source": [
        "# Split the data into 67% train and 33% test\n",
        "x_train,x_test,y_train,y_test = train_test_split(df_x,df_y, test_size = 0.33, random_state =42)"
      ],
      "execution_count": 16,
      "outputs": []
    },
    {
      "cell_type": "code",
      "metadata": {
        "colab": {
          "base_uri": "https://localhost:8080/"
        },
        "id": "bx3WB6m6bbwn",
        "outputId": "4e61b192-4b81-4332-b22d-b9c46c980516"
      },
      "source": [
        "# Train the model with our training data\n",
        "reg.fit(x_train,y_train)"
      ],
      "execution_count": 17,
      "outputs": [
        {
          "output_type": "execute_result",
          "data": {
            "text/plain": [
              "LinearRegression(copy_X=True, fit_intercept=True, n_jobs=None, normalize=False)"
            ]
          },
          "metadata": {
            "tags": []
          },
          "execution_count": 17
        }
      ]
    },
    {
      "cell_type": "code",
      "metadata": {
        "colab": {
          "base_uri": "https://localhost:8080/"
        },
        "id": "ciC-3LDwbs92",
        "outputId": "ac36c87f-5cb8-48d9-e9c1-60f13afe93b9"
      },
      "source": [
        "# Print the coefectients/weights for each featuere/columns of our model\n",
        "print(reg.coef_) #f(x, a) = mx + da + b = y"
      ],
      "execution_count": 18,
      "outputs": [
        {
          "output_type": "stream",
          "text": [
            "[[-1.28749718e-01  3.78232228e-02  5.82109233e-02  3.23866812e+00\n",
            "  -1.61698120e+01  3.90205116e+00 -1.28507825e-02 -1.42222430e+00\n",
            "   2.34853915e-01 -8.21331947e-03 -9.28722459e-01  1.17695921e-02\n",
            "  -5.47566338e-01]]\n"
          ],
          "name": "stdout"
        }
      ]
    },
    {
      "cell_type": "code",
      "metadata": {
        "colab": {
          "base_uri": "https://localhost:8080/"
        },
        "id": "r6Xkdwo2b_Lm",
        "outputId": "c76e7174-07c5-403d-dc52-b2127b833711"
      },
      "source": [
        "# print the prediction on our test data\n",
        "y_pred = reg.predict(x_test)\n",
        "print(y_pred)"
      ],
      "execution_count": 19,
      "outputs": [
        {
          "output_type": "stream",
          "text": [
            "[[28.53469469]\n",
            " [36.6187006 ]\n",
            " [15.63751079]\n",
            " [25.5014496 ]\n",
            " [18.7096734 ]\n",
            " [23.16471591]\n",
            " [17.31011035]\n",
            " [14.07736367]\n",
            " [23.01064388]\n",
            " [20.54223482]\n",
            " [24.91632351]\n",
            " [18.41098052]\n",
            " [-6.52079687]\n",
            " [21.83372604]\n",
            " [19.14903064]\n",
            " [26.0587322 ]\n",
            " [20.30232625]\n",
            " [ 5.74943567]\n",
            " [40.33137811]\n",
            " [17.45791446]\n",
            " [27.47486665]\n",
            " [30.2170757 ]\n",
            " [10.80555625]\n",
            " [23.87721728]\n",
            " [17.99492211]\n",
            " [16.02608791]\n",
            " [23.268288  ]\n",
            " [14.36825207]\n",
            " [22.38116971]\n",
            " [19.3092068 ]\n",
            " [22.17284576]\n",
            " [25.05925441]\n",
            " [25.13780726]\n",
            " [18.46730198]\n",
            " [16.60405712]\n",
            " [17.46564046]\n",
            " [30.71367733]\n",
            " [20.05106788]\n",
            " [23.9897768 ]\n",
            " [24.94322408]\n",
            " [13.97945355]\n",
            " [31.64706967]\n",
            " [42.48057206]\n",
            " [17.70042814]\n",
            " [26.92507869]\n",
            " [17.15897719]\n",
            " [13.68918087]\n",
            " [26.14924245]\n",
            " [20.2782306 ]\n",
            " [29.99003492]\n",
            " [21.21260347]\n",
            " [34.03649185]\n",
            " [15.41837553]\n",
            " [25.95781061]\n",
            " [39.13897274]\n",
            " [22.96118424]\n",
            " [18.80310558]\n",
            " [33.07865362]\n",
            " [24.74384155]\n",
            " [12.83640958]\n",
            " [22.41963398]\n",
            " [30.64804979]\n",
            " [31.59567111]\n",
            " [16.34088197]\n",
            " [20.9504304 ]\n",
            " [16.70145875]\n",
            " [20.23215646]\n",
            " [26.1437865 ]\n",
            " [31.12160889]\n",
            " [11.89762768]\n",
            " [20.45432404]\n",
            " [27.48356359]\n",
            " [10.89034224]\n",
            " [16.77707214]\n",
            " [24.02593714]\n",
            " [ 5.44691807]\n",
            " [21.35152331]\n",
            " [41.27267175]\n",
            " [18.13447647]\n",
            " [ 9.8012101 ]\n",
            " [21.24024342]\n",
            " [13.02644969]\n",
            " [21.80198374]\n",
            " [ 9.48201752]\n",
            " [22.99183857]\n",
            " [31.90465631]\n",
            " [18.95594718]\n",
            " [25.48515032]\n",
            " [29.49687019]\n",
            " [20.07282539]\n",
            " [25.5616062 ]\n",
            " [ 5.59584382]\n",
            " [20.18410904]\n",
            " [15.08773299]\n",
            " [14.34562117]\n",
            " [20.85155407]\n",
            " [24.80149389]\n",
            " [-0.19785401]\n",
            " [13.57649004]\n",
            " [15.64401679]\n",
            " [22.03765773]\n",
            " [24.70314482]\n",
            " [10.86409112]\n",
            " [19.60231067]\n",
            " [23.73429161]\n",
            " [12.08082177]\n",
            " [18.40997903]\n",
            " [25.4366158 ]\n",
            " [20.76506636]\n",
            " [24.68588237]\n",
            " [ 7.4995836 ]\n",
            " [18.93015665]\n",
            " [21.70801764]\n",
            " [27.14350579]\n",
            " [31.93765208]\n",
            " [15.19483586]\n",
            " [34.01357428]\n",
            " [12.85763091]\n",
            " [21.06646184]\n",
            " [28.58470042]\n",
            " [15.77437534]\n",
            " [24.77512495]\n",
            " [ 3.64655689]\n",
            " [23.91169589]\n",
            " [25.82292925]\n",
            " [23.03339677]\n",
            " [25.35158335]\n",
            " [33.05655447]\n",
            " [20.65930467]\n",
            " [38.18917361]\n",
            " [14.04714297]\n",
            " [25.26034469]\n",
            " [17.6138723 ]\n",
            " [20.60883766]\n",
            " [ 9.8525544 ]\n",
            " [21.06756951]\n",
            " [22.20145587]\n",
            " [32.2920276 ]\n",
            " [31.57638342]\n",
            " [15.29265938]\n",
            " [16.7100235 ]\n",
            " [29.10550932]\n",
            " [25.17762329]\n",
            " [16.88159225]\n",
            " [ 6.32621877]\n",
            " [26.70210263]\n",
            " [23.3525851 ]\n",
            " [17.24168182]\n",
            " [13.22815696]\n",
            " [39.49907507]\n",
            " [16.53528575]\n",
            " [18.14635902]\n",
            " [25.06620426]\n",
            " [23.70640231]\n",
            " [22.20167772]\n",
            " [21.22272327]\n",
            " [16.89825921]\n",
            " [23.15518273]\n",
            " [28.69699805]\n",
            " [ 6.65526482]\n",
            " [23.98399958]\n",
            " [17.21004545]\n",
            " [21.0574427 ]\n",
            " [25.01734597]\n",
            " [27.65461859]\n",
            " [20.70205823]\n",
            " [40.38214871]]\n"
          ],
          "name": "stdout"
        }
      ]
    },
    {
      "cell_type": "code",
      "metadata": {
        "id": "FUoGQ0YCcgbY"
      },
      "source": [
        ""
      ],
      "execution_count": null,
      "outputs": []
    }
  ]
}