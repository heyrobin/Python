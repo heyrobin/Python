{
 "cells": [
  {
   "cell_type": "markdown",
   "metadata": {},
   "source": []
  },
  {
   "cell_type": "code",
   "execution_count": 225,
   "metadata": {},
   "outputs": [],
   "source": [
    "#importing libraries\n",
    "import pandas as pd"
   ]
  },
  {
   "cell_type": "code",
   "execution_count": 331,
   "metadata": {},
   "outputs": [
    {
     "data": {
      "text/html": [
       "<div>\n",
       "<style scoped>\n",
       "    .dataframe tbody tr th:only-of-type {\n",
       "        vertical-align: middle;\n",
       "    }\n",
       "\n",
       "    .dataframe tbody tr th {\n",
       "        vertical-align: top;\n",
       "    }\n",
       "\n",
       "    .dataframe thead th {\n",
       "        text-align: right;\n",
       "    }\n",
       "</style>\n",
       "<table border=\"1\" class=\"dataframe\">\n",
       "  <thead>\n",
       "    <tr style=\"text-align: right;\">\n",
       "      <th></th>\n",
       "      <th>0</th>\n",
       "      <th>1</th>\n",
       "      <th>2</th>\n",
       "      <th>3</th>\n",
       "      <th>4</th>\n",
       "      <th>5</th>\n",
       "      <th>6</th>\n",
       "      <th>7</th>\n",
       "      <th>8</th>\n",
       "      <th>9</th>\n",
       "      <th>10</th>\n",
       "      <th>11</th>\n",
       "      <th>12</th>\n",
       "    </tr>\n",
       "  </thead>\n",
       "  <tbody>\n",
       "    <tr>\n",
       "      <th>0</th>\n",
       "      <td>20/01/2019,</td>\n",
       "      <td>2:09 pm - Messages and calls are end-to-end en...</td>\n",
       "      <td>WhatsApp,</td>\n",
       "      <td>can</td>\n",
       "      <td>read</td>\n",
       "      <td>or</td>\n",
       "      <td>listen</td>\n",
       "      <td>to</td>\n",
       "      <td>them.</td>\n",
       "      <td>Tap</td>\n",
       "      <td>to</td>\n",
       "      <td>learn</td>\n",
       "      <td>more.</td>\n",
       "    </tr>\n",
       "    <tr>\n",
       "      <th>1</th>\n",
       "      <td>20/01/2019,</td>\n",
       "      <td>2:09 pm - You created group \"Kya mile? \"</td>\n",
       "      <td>NaN</td>\n",
       "      <td>NaN</td>\n",
       "      <td>NaN</td>\n",
       "      <td>NaN</td>\n",
       "      <td>NaN</td>\n",
       "      <td>NaN</td>\n",
       "      <td>NaN</td>\n",
       "      <td>NaN</td>\n",
       "      <td>NaN</td>\n",
       "      <td>NaN</td>\n",
       "      <td>NaN</td>\n",
       "    </tr>\n",
       "    <tr>\n",
       "      <th>2</th>\n",
       "      <td>20/01/2019,</td>\n",
       "      <td>2:09 pm - RED: Kya hum tum mile?</td>\n",
       "      <td>NaN</td>\n",
       "      <td>NaN</td>\n",
       "      <td>NaN</td>\n",
       "      <td>NaN</td>\n",
       "      <td>NaN</td>\n",
       "      <td>NaN</td>\n",
       "      <td>NaN</td>\n",
       "      <td>NaN</td>\n",
       "      <td>NaN</td>\n",
       "      <td>NaN</td>\n",
       "      <td>NaN</td>\n",
       "    </tr>\n",
       "    <tr>\n",
       "      <th>3</th>\n",
       "      <td>20/01/2019,</td>\n",
       "      <td>2:09 pm - RED: Get together kre?</td>\n",
       "      <td>NaN</td>\n",
       "      <td>NaN</td>\n",
       "      <td>NaN</td>\n",
       "      <td>NaN</td>\n",
       "      <td>NaN</td>\n",
       "      <td>NaN</td>\n",
       "      <td>NaN</td>\n",
       "      <td>NaN</td>\n",
       "      <td>NaN</td>\n",
       "      <td>NaN</td>\n",
       "      <td>NaN</td>\n",
       "    </tr>\n",
       "    <tr>\n",
       "      <th>4</th>\n",
       "      <td>20/01/2019,</td>\n",
       "      <td>2:09 pm - Anurag: Aa mil</td>\n",
       "      <td>NaN</td>\n",
       "      <td>NaN</td>\n",
       "      <td>NaN</td>\n",
       "      <td>NaN</td>\n",
       "      <td>NaN</td>\n",
       "      <td>NaN</td>\n",
       "      <td>NaN</td>\n",
       "      <td>NaN</td>\n",
       "      <td>NaN</td>\n",
       "      <td>NaN</td>\n",
       "      <td>NaN</td>\n",
       "    </tr>\n",
       "  </tbody>\n",
       "</table>\n",
       "</div>"
      ],
      "text/plain": [
       "            0                                                  1          2   \\\n",
       "0  20/01/2019,  2:09 pm - Messages and calls are end-to-end en...  WhatsApp,   \n",
       "1  20/01/2019,           2:09 pm - You created group \"Kya mile? \"        NaN   \n",
       "2  20/01/2019,                   2:09 pm - RED: Kya hum tum mile?        NaN   \n",
       "3  20/01/2019,                   2:09 pm - RED: Get together kre?        NaN   \n",
       "4  20/01/2019,                           2:09 pm - Anurag: Aa mil        NaN   \n",
       "\n",
       "    3     4    5       6    7      8    9    10     11     12  \n",
       "0  can  read   or  listen   to  them.  Tap   to  learn  more.  \n",
       "1  NaN   NaN  NaN     NaN  NaN    NaN  NaN  NaN    NaN    NaN  \n",
       "2  NaN   NaN  NaN     NaN  NaN    NaN  NaN  NaN    NaN    NaN  \n",
       "3  NaN   NaN  NaN     NaN  NaN    NaN  NaN  NaN    NaN    NaN  \n",
       "4  NaN   NaN  NaN     NaN  NaN    NaN  NaN  NaN    NaN    NaN  "
      ]
     },
     "execution_count": 331,
     "metadata": {},
     "output_type": "execute_result"
    }
   ],
   "source": [
    "#importing chat data from txt.\n",
    "arth = pd.read_fwf('E:\\Data Analysis Study\\Project\\Python\\WhatsApp EDA\\ARTH.txt', header = None , error_bad_lines = False,encoding = 'utf8')\n",
    "\n",
    "arth.head(5)"
   ]
  },
  {
   "cell_type": "code",
   "execution_count": 332,
   "metadata": {},
   "outputs": [
    {
     "data": {
      "text/html": [
       "<div>\n",
       "<style scoped>\n",
       "    .dataframe tbody tr th:only-of-type {\n",
       "        vertical-align: middle;\n",
       "    }\n",
       "\n",
       "    .dataframe tbody tr th {\n",
       "        vertical-align: top;\n",
       "    }\n",
       "\n",
       "    .dataframe thead th {\n",
       "        text-align: right;\n",
       "    }\n",
       "</style>\n",
       "<table border=\"1\" class=\"dataframe\">\n",
       "  <thead>\n",
       "    <tr style=\"text-align: right;\">\n",
       "      <th></th>\n",
       "      <th>Date</th>\n",
       "      <th>Chats</th>\n",
       "    </tr>\n",
       "  </thead>\n",
       "  <tbody>\n",
       "    <tr>\n",
       "      <th>0</th>\n",
       "      <td>20/01/2019,</td>\n",
       "      <td>2:09 pm - Messages and calls are end-to-end en...</td>\n",
       "    </tr>\n",
       "    <tr>\n",
       "      <th>1</th>\n",
       "      <td>20/01/2019,</td>\n",
       "      <td>2:09 pm - You created group \"Kya mile? \"</td>\n",
       "    </tr>\n",
       "    <tr>\n",
       "      <th>2</th>\n",
       "      <td>20/01/2019,</td>\n",
       "      <td>2:09 pm - RED: Kya hum tum mile?</td>\n",
       "    </tr>\n",
       "    <tr>\n",
       "      <th>3</th>\n",
       "      <td>20/01/2019,</td>\n",
       "      <td>2:09 pm - RED: Get together kre?</td>\n",
       "    </tr>\n",
       "    <tr>\n",
       "      <th>4</th>\n",
       "      <td>20/01/2019,</td>\n",
       "      <td>2:09 pm - Anurag: Aa mil</td>\n",
       "    </tr>\n",
       "    <tr>\n",
       "      <th>...</th>\n",
       "      <td>...</td>\n",
       "      <td>...</td>\n",
       "    </tr>\n",
       "    <tr>\n",
       "      <th>4023</th>\n",
       "      <td>18/03/2021,</td>\n",
       "      <td>9:40 am - Tosiba: noida ki maa ki chut</td>\n",
       "    </tr>\n",
       "    <tr>\n",
       "      <th>4024</th>\n",
       "      <td>18/03/2021,</td>\n",
       "      <td>10:03 am - Anurag: 😂</td>\n",
       "    </tr>\n",
       "    <tr>\n",
       "      <th>4025</th>\n",
       "      <td>18/03/2021,</td>\n",
       "      <td>10:04 am - Anurag: Snooker ki ma ki chut</td>\n",
       "    </tr>\n",
       "    <tr>\n",
       "      <th>4026</th>\n",
       "      <td>18/03/2021,</td>\n",
       "      <td>11:26 am - RED: &lt;Media omitted&gt;</td>\n",
       "    </tr>\n",
       "    <tr>\n",
       "      <th>4027</th>\n",
       "      <td>18/03/2021,</td>\n",
       "      <td>11:26 am - RED: The Ministry of Electronics an...</td>\n",
       "    </tr>\n",
       "  </tbody>\n",
       "</table>\n",
       "<p>4028 rows × 2 columns</p>\n",
       "</div>"
      ],
      "text/plain": [
       "             Date                                              Chats\n",
       "0     20/01/2019,  2:09 pm - Messages and calls are end-to-end en...\n",
       "1     20/01/2019,           2:09 pm - You created group \"Kya mile? \"\n",
       "2     20/01/2019,                   2:09 pm - RED: Kya hum tum mile?\n",
       "3     20/01/2019,                   2:09 pm - RED: Get together kre?\n",
       "4     20/01/2019,                           2:09 pm - Anurag: Aa mil\n",
       "...           ...                                                ...\n",
       "4023  18/03/2021,             9:40 am - Tosiba: noida ki maa ki chut\n",
       "4024  18/03/2021,                               10:03 am - Anurag: 😂\n",
       "4025  18/03/2021,           10:04 am - Anurag: Snooker ki ma ki chut\n",
       "4026  18/03/2021,                    11:26 am - RED: <Media omitted>\n",
       "4027  18/03/2021,  11:26 am - RED: The Ministry of Electronics an...\n",
       "\n",
       "[4028 rows x 2 columns]"
      ]
     },
     "execution_count": 332,
     "metadata": {},
     "output_type": "execute_result"
    }
   ],
   "source": [
    "#droping unessesary columns\n",
    "arth.drop([2,3,4,5,6,7,8,9,10,11,12], axis =1, inplace=True)\n",
    "arth.columns = ['Date', 'Chats']\n",
    "arth"
   ]
  },
  {
   "cell_type": "markdown",
   "metadata": {},
   "source": [
    "Spliting Chats into 2 parts time and message"
   ]
  },
  {
   "cell_type": "code",
   "execution_count": 333,
   "metadata": {},
   "outputs": [],
   "source": [
    "message = arth['Chats'].str.split('-', n = 1, expand = True)\n",
    "message.columns = ['Time', 'Message']\n"
   ]
  },
  {
   "cell_type": "code",
   "execution_count": 334,
   "metadata": {},
   "outputs": [],
   "source": [
    "message\n",
    "arth = arth.drop(\"Chats\", axis = 1)\n"
   ]
  },
  {
   "cell_type": "code",
   "execution_count": 335,
   "metadata": {},
   "outputs": [],
   "source": [
    "arth[\"Time\"] = message[\"Time\"] \n",
    "arth[\"Message\"] = message[\"Message\"]"
   ]
  },
  {
   "cell_type": "code",
   "execution_count": 336,
   "metadata": {},
   "outputs": [],
   "source": [
    "comma = arth['Date'].str.split(',', n = 1, expand = True)\n",
    "comma.columns = ['Date', 'Com']"
   ]
  },
  {
   "cell_type": "code",
   "execution_count": 337,
   "metadata": {},
   "outputs": [],
   "source": [
    "comma.drop('Com', axis = 1, inplace = True)"
   ]
  },
  {
   "cell_type": "code",
   "execution_count": 338,
   "metadata": {},
   "outputs": [],
   "source": [
    "arth['Date'] = comma['Date']"
   ]
  },
  {
   "cell_type": "code",
   "execution_count": 339,
   "metadata": {},
   "outputs": [
    {
     "data": {
      "text/html": [
       "<div>\n",
       "<style scoped>\n",
       "    .dataframe tbody tr th:only-of-type {\n",
       "        vertical-align: middle;\n",
       "    }\n",
       "\n",
       "    .dataframe tbody tr th {\n",
       "        vertical-align: top;\n",
       "    }\n",
       "\n",
       "    .dataframe thead th {\n",
       "        text-align: right;\n",
       "    }\n",
       "</style>\n",
       "<table border=\"1\" class=\"dataframe\">\n",
       "  <thead>\n",
       "    <tr style=\"text-align: right;\">\n",
       "      <th></th>\n",
       "      <th>Date</th>\n",
       "      <th>Time</th>\n",
       "      <th>Message</th>\n",
       "    </tr>\n",
       "  </thead>\n",
       "  <tbody>\n",
       "    <tr>\n",
       "      <th>0</th>\n",
       "      <td>20/01/2019</td>\n",
       "      <td>2:09 pm</td>\n",
       "      <td>Messages and calls are end-to-end encrypted. ...</td>\n",
       "    </tr>\n",
       "    <tr>\n",
       "      <th>1</th>\n",
       "      <td>20/01/2019</td>\n",
       "      <td>2:09 pm</td>\n",
       "      <td>You created group \"Kya mile? \"</td>\n",
       "    </tr>\n",
       "    <tr>\n",
       "      <th>2</th>\n",
       "      <td>20/01/2019</td>\n",
       "      <td>2:09 pm</td>\n",
       "      <td>RED: Kya hum tum mile?</td>\n",
       "    </tr>\n",
       "    <tr>\n",
       "      <th>3</th>\n",
       "      <td>20/01/2019</td>\n",
       "      <td>2:09 pm</td>\n",
       "      <td>RED: Get together kre?</td>\n",
       "    </tr>\n",
       "    <tr>\n",
       "      <th>4</th>\n",
       "      <td>20/01/2019</td>\n",
       "      <td>2:09 pm</td>\n",
       "      <td>Anurag: Aa mil</td>\n",
       "    </tr>\n",
       "    <tr>\n",
       "      <th>...</th>\n",
       "      <td>...</td>\n",
       "      <td>...</td>\n",
       "      <td>...</td>\n",
       "    </tr>\n",
       "    <tr>\n",
       "      <th>4023</th>\n",
       "      <td>18/03/2021</td>\n",
       "      <td>9:40 am</td>\n",
       "      <td>Tosiba: noida ki maa ki chut</td>\n",
       "    </tr>\n",
       "    <tr>\n",
       "      <th>4024</th>\n",
       "      <td>18/03/2021</td>\n",
       "      <td>10:03 am</td>\n",
       "      <td>Anurag: 😂</td>\n",
       "    </tr>\n",
       "    <tr>\n",
       "      <th>4025</th>\n",
       "      <td>18/03/2021</td>\n",
       "      <td>10:04 am</td>\n",
       "      <td>Anurag: Snooker ki ma ki chut</td>\n",
       "    </tr>\n",
       "    <tr>\n",
       "      <th>4026</th>\n",
       "      <td>18/03/2021</td>\n",
       "      <td>11:26 am</td>\n",
       "      <td>RED: &lt;Media omitted&gt;</td>\n",
       "    </tr>\n",
       "    <tr>\n",
       "      <th>4027</th>\n",
       "      <td>18/03/2021</td>\n",
       "      <td>11:26 am</td>\n",
       "      <td>RED: The Ministry of Electronics and Informat...</td>\n",
       "    </tr>\n",
       "  </tbody>\n",
       "</table>\n",
       "<p>4028 rows × 3 columns</p>\n",
       "</div>"
      ],
      "text/plain": [
       "            Date       Time                                            Message\n",
       "0     20/01/2019   2:09 pm    Messages and calls are end-to-end encrypted. ...\n",
       "1     20/01/2019   2:09 pm                      You created group \"Kya mile? \"\n",
       "2     20/01/2019   2:09 pm                              RED: Kya hum tum mile?\n",
       "3     20/01/2019   2:09 pm                              RED: Get together kre?\n",
       "4     20/01/2019   2:09 pm                                      Anurag: Aa mil\n",
       "...          ...        ...                                                ...\n",
       "4023  18/03/2021   9:40 am                        Tosiba: noida ki maa ki chut\n",
       "4024  18/03/2021  10:03 am                                           Anurag: 😂\n",
       "4025  18/03/2021  10:04 am                       Anurag: Snooker ki ma ki chut\n",
       "4026  18/03/2021  11:26 am                                RED: <Media omitted>\n",
       "4027  18/03/2021  11:26 am    RED: The Ministry of Electronics and Informat...\n",
       "\n",
       "[4028 rows x 3 columns]"
      ]
     },
     "execution_count": 339,
     "metadata": {},
     "output_type": "execute_result"
    }
   ],
   "source": [
    "arth"
   ]
  },
  {
   "cell_type": "code",
   "execution_count": 340,
   "metadata": {},
   "outputs": [],
   "source": [
    "Name = arth['Message'].str.split(':', n = 1, expand = True)\n",
    "Name.columns = ['name', 'Message']"
   ]
  },
  {
   "cell_type": "code",
   "execution_count": 341,
   "metadata": {},
   "outputs": [],
   "source": [
    "arth = arth.drop('Message', axis = 1)"
   ]
  },
  {
   "cell_type": "code",
   "execution_count": 342,
   "metadata": {},
   "outputs": [
    {
     "data": {
      "text/html": [
       "<div>\n",
       "<style scoped>\n",
       "    .dataframe tbody tr th:only-of-type {\n",
       "        vertical-align: middle;\n",
       "    }\n",
       "\n",
       "    .dataframe tbody tr th {\n",
       "        vertical-align: top;\n",
       "    }\n",
       "\n",
       "    .dataframe thead th {\n",
       "        text-align: right;\n",
       "    }\n",
       "</style>\n",
       "<table border=\"1\" class=\"dataframe\">\n",
       "  <thead>\n",
       "    <tr style=\"text-align: right;\">\n",
       "      <th></th>\n",
       "      <th>Date</th>\n",
       "      <th>Time</th>\n",
       "    </tr>\n",
       "  </thead>\n",
       "  <tbody>\n",
       "    <tr>\n",
       "      <th>0</th>\n",
       "      <td>20/01/2019</td>\n",
       "      <td>2:09 pm</td>\n",
       "    </tr>\n",
       "    <tr>\n",
       "      <th>1</th>\n",
       "      <td>20/01/2019</td>\n",
       "      <td>2:09 pm</td>\n",
       "    </tr>\n",
       "    <tr>\n",
       "      <th>2</th>\n",
       "      <td>20/01/2019</td>\n",
       "      <td>2:09 pm</td>\n",
       "    </tr>\n",
       "    <tr>\n",
       "      <th>3</th>\n",
       "      <td>20/01/2019</td>\n",
       "      <td>2:09 pm</td>\n",
       "    </tr>\n",
       "    <tr>\n",
       "      <th>4</th>\n",
       "      <td>20/01/2019</td>\n",
       "      <td>2:09 pm</td>\n",
       "    </tr>\n",
       "    <tr>\n",
       "      <th>...</th>\n",
       "      <td>...</td>\n",
       "      <td>...</td>\n",
       "    </tr>\n",
       "    <tr>\n",
       "      <th>4023</th>\n",
       "      <td>18/03/2021</td>\n",
       "      <td>9:40 am</td>\n",
       "    </tr>\n",
       "    <tr>\n",
       "      <th>4024</th>\n",
       "      <td>18/03/2021</td>\n",
       "      <td>10:03 am</td>\n",
       "    </tr>\n",
       "    <tr>\n",
       "      <th>4025</th>\n",
       "      <td>18/03/2021</td>\n",
       "      <td>10:04 am</td>\n",
       "    </tr>\n",
       "    <tr>\n",
       "      <th>4026</th>\n",
       "      <td>18/03/2021</td>\n",
       "      <td>11:26 am</td>\n",
       "    </tr>\n",
       "    <tr>\n",
       "      <th>4027</th>\n",
       "      <td>18/03/2021</td>\n",
       "      <td>11:26 am</td>\n",
       "    </tr>\n",
       "  </tbody>\n",
       "</table>\n",
       "<p>4028 rows × 2 columns</p>\n",
       "</div>"
      ],
      "text/plain": [
       "            Date       Time\n",
       "0     20/01/2019   2:09 pm \n",
       "1     20/01/2019   2:09 pm \n",
       "2     20/01/2019   2:09 pm \n",
       "3     20/01/2019   2:09 pm \n",
       "4     20/01/2019   2:09 pm \n",
       "...          ...        ...\n",
       "4023  18/03/2021   9:40 am \n",
       "4024  18/03/2021  10:03 am \n",
       "4025  18/03/2021  10:04 am \n",
       "4026  18/03/2021  11:26 am \n",
       "4027  18/03/2021  11:26 am \n",
       "\n",
       "[4028 rows x 2 columns]"
      ]
     },
     "execution_count": 342,
     "metadata": {},
     "output_type": "execute_result"
    }
   ],
   "source": [
    "arth"
   ]
  },
  {
   "cell_type": "code",
   "execution_count": 343,
   "metadata": {},
   "outputs": [],
   "source": [
    "arth['name'] =Name['name']\n",
    "arth['Message'] = Name['Message'].str.lower()"
   ]
  },
  {
   "cell_type": "code",
   "execution_count": 344,
   "metadata": {},
   "outputs": [
    {
     "data": {
      "text/html": [
       "<div>\n",
       "<style scoped>\n",
       "    .dataframe tbody tr th:only-of-type {\n",
       "        vertical-align: middle;\n",
       "    }\n",
       "\n",
       "    .dataframe tbody tr th {\n",
       "        vertical-align: top;\n",
       "    }\n",
       "\n",
       "    .dataframe thead th {\n",
       "        text-align: right;\n",
       "    }\n",
       "</style>\n",
       "<table border=\"1\" class=\"dataframe\">\n",
       "  <thead>\n",
       "    <tr style=\"text-align: right;\">\n",
       "      <th></th>\n",
       "      <th>Date</th>\n",
       "      <th>Time</th>\n",
       "      <th>name</th>\n",
       "      <th>Message</th>\n",
       "    </tr>\n",
       "  </thead>\n",
       "  <tbody>\n",
       "    <tr>\n",
       "      <th>0</th>\n",
       "      <td>20/01/2019</td>\n",
       "      <td>2:09 pm</td>\n",
       "      <td>Messages and calls are end-to-end encrypted. ...</td>\n",
       "      <td>None</td>\n",
       "    </tr>\n",
       "    <tr>\n",
       "      <th>1</th>\n",
       "      <td>20/01/2019</td>\n",
       "      <td>2:09 pm</td>\n",
       "      <td>You created group \"Kya mile? \"</td>\n",
       "      <td>None</td>\n",
       "    </tr>\n",
       "    <tr>\n",
       "      <th>2</th>\n",
       "      <td>20/01/2019</td>\n",
       "      <td>2:09 pm</td>\n",
       "      <td>RED</td>\n",
       "      <td>kya hum tum mile?</td>\n",
       "    </tr>\n",
       "    <tr>\n",
       "      <th>3</th>\n",
       "      <td>20/01/2019</td>\n",
       "      <td>2:09 pm</td>\n",
       "      <td>RED</td>\n",
       "      <td>get together kre?</td>\n",
       "    </tr>\n",
       "    <tr>\n",
       "      <th>4</th>\n",
       "      <td>20/01/2019</td>\n",
       "      <td>2:09 pm</td>\n",
       "      <td>Anurag</td>\n",
       "      <td>aa mil</td>\n",
       "    </tr>\n",
       "  </tbody>\n",
       "</table>\n",
       "</div>"
      ],
      "text/plain": [
       "         Date      Time                                               name  \\\n",
       "0  20/01/2019  2:09 pm    Messages and calls are end-to-end encrypted. ...   \n",
       "1  20/01/2019  2:09 pm                      You created group \"Kya mile? \"   \n",
       "2  20/01/2019  2:09 pm                                                 RED   \n",
       "3  20/01/2019  2:09 pm                                                 RED   \n",
       "4  20/01/2019  2:09 pm                                              Anurag   \n",
       "\n",
       "              Message  \n",
       "0                None  \n",
       "1                None  \n",
       "2   kya hum tum mile?  \n",
       "3   get together kre?  \n",
       "4              aa mil  "
      ]
     },
     "execution_count": 344,
     "metadata": {},
     "output_type": "execute_result"
    }
   ],
   "source": [
    "arth.head(5)"
   ]
  },
  {
   "cell_type": "code",
   "execution_count": 345,
   "metadata": {},
   "outputs": [
    {
     "data": {
      "text/plain": [
       "Date        5\n",
       "Time        8\n",
       "name       15\n",
       "Message    31\n",
       "dtype: int64"
      ]
     },
     "execution_count": 345,
     "metadata": {},
     "output_type": "execute_result"
    }
   ],
   "source": [
    "arth.isna().sum()"
   ]
  },
  {
   "cell_type": "code",
   "execution_count": 346,
   "metadata": {},
   "outputs": [],
   "source": [
    "arth.fillna(0, inplace = True)"
   ]
  },
  {
   "cell_type": "code",
   "execution_count": 347,
   "metadata": {},
   "outputs": [
    {
     "data": {
      "text/html": [
       "<div>\n",
       "<style scoped>\n",
       "    .dataframe tbody tr th:only-of-type {\n",
       "        vertical-align: middle;\n",
       "    }\n",
       "\n",
       "    .dataframe tbody tr th {\n",
       "        vertical-align: top;\n",
       "    }\n",
       "\n",
       "    .dataframe thead th {\n",
       "        text-align: right;\n",
       "    }\n",
       "</style>\n",
       "<table border=\"1\" class=\"dataframe\">\n",
       "  <thead>\n",
       "    <tr style=\"text-align: right;\">\n",
       "      <th></th>\n",
       "      <th>Date</th>\n",
       "      <th>Time</th>\n",
       "      <th>name</th>\n",
       "      <th>Message</th>\n",
       "    </tr>\n",
       "  </thead>\n",
       "  <tbody>\n",
       "    <tr>\n",
       "      <th>0</th>\n",
       "      <td>20/01/2019</td>\n",
       "      <td>2:09 pm</td>\n",
       "      <td>Messages and calls are end-to-end encrypted. ...</td>\n",
       "      <td>0</td>\n",
       "    </tr>\n",
       "    <tr>\n",
       "      <th>1</th>\n",
       "      <td>20/01/2019</td>\n",
       "      <td>2:09 pm</td>\n",
       "      <td>You created group \"Kya mile? \"</td>\n",
       "      <td>0</td>\n",
       "    </tr>\n",
       "    <tr>\n",
       "      <th>2</th>\n",
       "      <td>20/01/2019</td>\n",
       "      <td>2:09 pm</td>\n",
       "      <td>RED</td>\n",
       "      <td>kya hum tum mile?</td>\n",
       "    </tr>\n",
       "    <tr>\n",
       "      <th>3</th>\n",
       "      <td>20/01/2019</td>\n",
       "      <td>2:09 pm</td>\n",
       "      <td>RED</td>\n",
       "      <td>get together kre?</td>\n",
       "    </tr>\n",
       "    <tr>\n",
       "      <th>4</th>\n",
       "      <td>20/01/2019</td>\n",
       "      <td>2:09 pm</td>\n",
       "      <td>Anurag</td>\n",
       "      <td>aa mil</td>\n",
       "    </tr>\n",
       "  </tbody>\n",
       "</table>\n",
       "</div>"
      ],
      "text/plain": [
       "         Date      Time                                               name  \\\n",
       "0  20/01/2019  2:09 pm    Messages and calls are end-to-end encrypted. ...   \n",
       "1  20/01/2019  2:09 pm                      You created group \"Kya mile? \"   \n",
       "2  20/01/2019  2:09 pm                                                 RED   \n",
       "3  20/01/2019  2:09 pm                                                 RED   \n",
       "4  20/01/2019  2:09 pm                                              Anurag   \n",
       "\n",
       "              Message  \n",
       "0                   0  \n",
       "1                   0  \n",
       "2   kya hum tum mile?  \n",
       "3   get together kre?  \n",
       "4              aa mil  "
      ]
     },
     "execution_count": 347,
     "metadata": {},
     "output_type": "execute_result"
    }
   ],
   "source": [
    "arth.head(5)"
   ]
  },
  {
   "cell_type": "code",
   "execution_count": 348,
   "metadata": {},
   "outputs": [
    {
     "name": "stdout",
     "output_type": "stream",
     "text": [
      "Requirement already satisfied: emoji in c:\\programdata\\anaconda3\\lib\\site-packages (1.2.0)\n"
     ]
    }
   ],
   "source": [
    "!pip install emoji"
   ]
  },
  {
   "cell_type": "code",
   "execution_count": 349,
   "metadata": {},
   "outputs": [],
   "source": [
    "import emoji "
   ]
  },
  {
   "cell_type": "code",
   "execution_count": 350,
   "metadata": {},
   "outputs": [
    {
     "data": {
      "text/plain": [
       "array([39, 33, 30, 23, 22, 21, 20, 19, 18, 17, 16, 15, 14, 13, 12, 11, 10,\n",
       "        9,  8,  7,  6,  5,  4,  3,  2,  1], dtype=int64)"
      ]
     },
     "execution_count": 350,
     "metadata": {},
     "output_type": "execute_result"
    }
   ],
   "source": [
    "# talked 26 days in 3 years other days there were no chat\n",
    "arth[\"Time\"].value_counts().unique()"
   ]
  },
  {
   "cell_type": "code",
   "execution_count": 351,
   "metadata": {},
   "outputs": [
    {
     "data": {
      "text/plain": [
       "array(['20/01/2019', '26/01/2019', '27/01/2019', '28/11/2019',\n",
       "       '29/11/2019', '30/11/2019', '01/12/2019', '02/12/2019',\n",
       "       '03/12/2019', '14/12/2019', '16/12/2019', '17/12/2019',\n",
       "       '20/12/2019', '21/12/2019', '31/12/2019', '01/01/2020',\n",
       "       'Happy New y', '17/02/2020', '14/05/2020', 0, 'And then sh',\n",
       "       'She : kutta', '15/05/2020', '19/05/2020', '12/06/2020',\n",
       "       '14/06/2020', '15/06/2020', '16/06/2020', '17/06/2020',\n",
       "       '18/06/2020', '20/06/2020', '21/06/2020', '22/06/2020',\n",
       "       '23/06/2020', '25/06/2020', '26/06/2020', '27/06/2020',\n",
       "       '28/06/2020', '29/06/2020', '30/06/2020', '01/07/2020',\n",
       "       '03/07/2020', '04/07/2020', '05/07/2020', '06/07/2020',\n",
       "       '07/07/2020', '08/07/2020', '09/07/2020', '10/07/2020',\n",
       "       '19/07/2020', '20/07/2020', '21/07/2020', '13/12/2020',\n",
       "       '14/12/2020', '15/12/2020', '16/12/2020', '17/12/2020',\n",
       "       '19/12/2020', '20/12/2020', 'https://bnc', '23/12/2020',\n",
       "       '24/12/2020', '25/12/2020', '26/12/2020', '27/12/2020',\n",
       "       '28/12/2020', '29/12/2020', '30/12/2020', '31/12/2020',\n",
       "       '01/01/2021', '02/01/2021', '03/01/2021', '04/01/2021',\n",
       "       '05/01/2021', '07/01/2021', '@9175034788', '09/01/2021',\n",
       "       '10/01/2021', 'dekhlo lavd', '15/01/2021', '16/01/2021',\n",
       "       '17/01/2021', '18/01/2021', '19/01/2021', '24/01/2021',\n",
       "       '29/01/2021', '31/01/2021', '06/02/2021', 'http://chng',\n",
       "       '07/02/2021', '08/02/2021', '13/02/2021', '14/02/2021',\n",
       "       '16/02/2021', '17/02/2021', '18/02/2021', '19/02/2021',\n",
       "       '21/02/2021', '23/02/2021', '26/02/2021', '27/02/2021',\n",
       "       '28/02/2021', '01/03/2021', '02/03/2021', '04/03/2021',\n",
       "       '05/03/2021', '06/03/2021', '07/03/2021', '08/03/2021',\n",
       "       '09/03/2021', '10/03/2021', '13/03/2021', '14/03/2021',\n",
       "       '16/03/2021', '17/03/2021', 'Will get ba', 'Thanks.', 'Thanks',\n",
       "       '18/03/2021'], dtype=object)"
      ]
     },
     "execution_count": 351,
     "metadata": {},
     "output_type": "execute_result"
    }
   ],
   "source": [
    "arth[\"Date\"].unique()"
   ]
  },
  {
   "cell_type": "code",
   "execution_count": 352,
   "metadata": {},
   "outputs": [
    {
     "data": {
      "text/plain": [
       " RED                                                                                   1489\n",
       " Tosiba                                                                                1211\n",
       " Gotiya                                                                                 779\n",
       " Anurag                                                                                 518\n",
       "0                                                                                        15\n",
       " You added Gotiya                                                                         2\n",
       " Gotiya left                                                                              2\n",
       " You created group \"Kya mile? \"                                                           1\n",
       " You changed the subject from \"Part khatam photo de!\" to \"Party khatam photo de!\"         1\n",
       " Messages and calls are end-to-end encrypted. No one outside of this chat, not even       1\n",
       " You changed the subject from \"Tushar in Delhi\" to \"ABCD\"                                 1\n",
       " Gotiya changed the subject from \"Party khatam photo de!\" to \"Tushar in Delhi\"            1\n",
       " You changed the subject from \"Aur chu! Kesa h?\" to \"DC - 4pm -\"                          1\n",
       " You changed the subject from \"ABCD\" to \"ARTH\"                                            1\n",
       " Gotiya added Tosiba                                                                      1\n",
       " You changed the subject from \"DC - 4pm -\" to \"Part khatam photo de!\"                     1\n",
       " You changed the subject from \"Kya mile? \" to \"Aur chu! Kesa h?\"                          1\n",
       " Gotiya changed this group's icon                                                         1\n",
       " You changed this group's icon                                                            1\n",
       "Name: name, dtype: int64"
      ]
     },
     "execution_count": 352,
     "metadata": {},
     "output_type": "execute_result"
    }
   ],
   "source": [
    "#how many times the media were sent \n",
    "# how many times the group were changed \n",
    "#how many times the person left\n",
    "#all group names till the date\n",
    "arth[\"name\"].value_counts()"
   ]
  },
  {
   "cell_type": "code",
   "execution_count": 353,
   "metadata": {},
   "outputs": [
    {
     "name": "stdout",
     "output_type": "stream",
     "text": [
      "<class 'pandas.core.frame.DataFrame'>\n",
      "RangeIndex: 4028 entries, 0 to 4027\n",
      "Data columns (total 4 columns):\n",
      " #   Column   Non-Null Count  Dtype \n",
      "---  ------   --------------  ----- \n",
      " 0   Date     4028 non-null   object\n",
      " 1   Time     4028 non-null   object\n",
      " 2   name     4028 non-null   object\n",
      " 3   Message  4028 non-null   object\n",
      "dtypes: object(4)\n",
      "memory usage: 126.0+ KB\n"
     ]
    }
   ],
   "source": [
    "arth.info()"
   ]
  },
  {
   "cell_type": "code",
   "execution_count": 354,
   "metadata": {},
   "outputs": [
    {
     "data": {
      "text/plain": [
       " <media omitted>    345\n",
       " 😂😂                  68\n",
       " 😂😂😂                 66\n",
       "0                    31\n",
       " 😂                   29\n",
       " haa                 23\n",
       " 😂😂😂😂                19\n",
       " ?                   15\n",
       " ok                  11\n",
       " bhai                11\n",
       "Name: Message, dtype: int64"
      ]
     },
     "execution_count": 354,
     "metadata": {},
     "output_type": "execute_result"
    }
   ],
   "source": [
    "arth[\"Message\"].value_counts().head(10)"
   ]
  },
  {
   "cell_type": "code",
   "execution_count": null,
   "metadata": {},
   "outputs": [],
   "source": []
  }
 ],
 "metadata": {
  "kernelspec": {
   "display_name": "Python 3",
   "language": "python",
   "name": "python3"
  },
  "language_info": {
   "codemirror_mode": {
    "name": "ipython",
    "version": 3
   },
   "file_extension": ".py",
   "mimetype": "text/x-python",
   "name": "python",
   "nbconvert_exporter": "python",
   "pygments_lexer": "ipython3",
   "version": "3.8.5"
  }
 },
 "nbformat": 4,
 "nbformat_minor": 4
}
