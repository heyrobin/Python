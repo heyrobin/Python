{
  "nbformat": 4,
  "nbformat_minor": 0,
  "metadata": {
    "colab": {
      "name": "Bitcoin Sentiment analysis.ipynb",
      "provenance": [],
      "collapsed_sections": [],
      "authorship_tag": "ABX9TyMZkjNAvPjIgsNVB0pla78o",
      "include_colab_link": true
    },
    "kernelspec": {
      "name": "python3",
      "display_name": "Python 3"
    },
    "language_info": {
      "name": "python"
    }
  },
  "cells": [
    {
      "cell_type": "markdown",
      "metadata": {
        "id": "view-in-github",
        "colab_type": "text"
      },
      "source": [
        "<a href=\"https://colab.research.google.com/github/heyrobin/Python/blob/main/Sentiment%20Analysis/Cardano_Sentiment_analysis.ipynb\" target=\"_parent\"><img src=\"https://colab.research.google.com/assets/colab-badge.svg\" alt=\"Open In Colab\"/></a>"
      ]
    },
    {
      "cell_type": "code",
      "metadata": {
        "id": "rtLpsclklCUl"
      },
      "source": [
        "#importing libraries\n",
        "import tweepy\n",
        "from textblob import TextBlob\n",
        "import numpy as np\n",
        "import pandas as pd\n",
        "import re\n",
        "import matplotlib.pyplot as plt\n",
        "plt.style.use('fivethirtyeight')\n"
      ],
      "execution_count": null,
      "outputs": []
    },
    {
      "cell_type": "code",
      "metadata": {
        "id": "V-OQzv26lNpO"
      },
      "source": [
        "#importing keys to authenticate the access twitter API\n",
        "#connect as OATH handler\n",
        "consumer_key = \"8AO6OU5ubyi4XO47b1C7Sjdlz\"\n",
        "consumer_sec = \"FS1usPrfPolvjLXbwGka5N8TWkOZhUsdxGmmTwuO016koesUSt\"\n",
        "\n",
        "# from proxy server we need to connect\n",
        "access_token = \"1151573806680592384-OUFeUtpsRFZM6jQxl1AG99NEjlY0Kt\"\n",
        "access_token_sec = \"KKHmkHkDGVaDof8XK4fKKI52DmNl4vZlaXnx85WRfd4Lr\"\n"
      ],
      "execution_count": null,
      "outputs": []
    },
    {
      "cell_type": "code",
      "metadata": {
        "colab": {
          "base_uri": "https://localhost:8080/"
        },
        "id": "LbjtUCQzLmNr",
        "outputId": "76bba6fd-3e14-4a25-b4f6-d1984da0f03a"
      },
      "source": [
        "#explore tweepy\n",
        "dir(tweepy)"
      ],
      "execution_count": null,
      "outputs": [
        {
          "output_type": "execute_result",
          "data": {
            "text/plain": [
              "['API',\n",
              " 'AppAuthHandler',\n",
              " 'Cache',\n",
              " 'Cursor',\n",
              " 'DirectMessage',\n",
              " 'FileCache',\n",
              " 'Friendship',\n",
              " 'MemoryCache',\n",
              " 'ModelFactory',\n",
              " 'OAuthHandler',\n",
              " 'RateLimitError',\n",
              " 'SavedSearch',\n",
              " 'SearchResults',\n",
              " 'Status',\n",
              " 'Stream',\n",
              " 'StreamListener',\n",
              " 'TweepError',\n",
              " 'User',\n",
              " '__author__',\n",
              " '__builtins__',\n",
              " '__cached__',\n",
              " '__doc__',\n",
              " '__file__',\n",
              " '__license__',\n",
              " '__loader__',\n",
              " '__name__',\n",
              " '__package__',\n",
              " '__path__',\n",
              " '__spec__',\n",
              " '__version__',\n",
              " 'api',\n",
              " 'auth',\n",
              " 'binder',\n",
              " 'cache',\n",
              " 'cursor',\n",
              " 'debug',\n",
              " 'error',\n",
              " 'models',\n",
              " 'parsers',\n",
              " 'streaming',\n",
              " 'utils']"
            ]
          },
          "metadata": {
            "tags": []
          },
          "execution_count": 3
        }
      ]
    },
    {
      "cell_type": "code",
      "metadata": {
        "id": "F5RpZWhNL-ST"
      },
      "source": [
        "#creating authentication object\n",
        "authenticate = tweepy.OAuthHandler(consumer_key,consumer_sec)\n",
        "#set the access token and the access token secret\n",
        "authenticate.set_access_token(access_token,access_token_sec)\n",
        "#create the API object\n",
        "api = tweepy.API(authenticate)"
      ],
      "execution_count": 31,
      "outputs": []
    },
    {
      "cell_type": "code",
      "metadata": {
        "id": "Pw7qdmiuNYr1"
      },
      "source": [
        "#Gather 1000 tweets about cardano and filter out any retweets\n",
        "search_term = '#cardano -filter:retweets'\n",
        "#Create a cursor object\n",
        "tweets = tweepy.Cursor(api.search, q=search_term, lang='en', since='2021-01-01',tweet_mode= 'extended').items(2000)\n",
        "#store the tweets in variable and get the full text\n",
        "all_tweets = [tweet.full_text for tweet in tweets]"
      ],
      "execution_count": 32,
      "outputs": []
    },
    {
      "cell_type": "code",
      "metadata": {
        "id": "OTF34g55PVa1",
        "colab": {
          "base_uri": "https://localhost:8080/",
          "height": 359
        },
        "outputId": "838f27ba-05ca-408f-c9fd-f3560a978633"
      },
      "source": [
        "#create a dataframe to store the tweets with a column called 'Tweets'\n",
        "df = pd.DataFrame(all_tweets, columns=['Tweets'])\n",
        "df.head(10)"
      ],
      "execution_count": 33,
      "outputs": [
        {
          "output_type": "execute_result",
          "data": {
            "text/html": [
              "<div>\n",
              "<style scoped>\n",
              "    .dataframe tbody tr th:only-of-type {\n",
              "        vertical-align: middle;\n",
              "    }\n",
              "\n",
              "    .dataframe tbody tr th {\n",
              "        vertical-align: top;\n",
              "    }\n",
              "\n",
              "    .dataframe thead th {\n",
              "        text-align: right;\n",
              "    }\n",
              "</style>\n",
              "<table border=\"1\" class=\"dataframe\">\n",
              "  <thead>\n",
              "    <tr style=\"text-align: right;\">\n",
              "      <th></th>\n",
              "      <th>Tweets</th>\n",
              "    </tr>\n",
              "  </thead>\n",
              "  <tbody>\n",
              "    <tr>\n",
              "      <th>0</th>\n",
              "      <td>🥂AUNTIES🥂\\n\\n🤪’POPE LONERGAN IS PLIMMIN’ AND L...</td>\n",
              "    </tr>\n",
              "    <tr>\n",
              "      <th>1</th>\n",
              "      <td>Today we have crossed 400K delegated wallets🔥🔥...</td>\n",
              "    </tr>\n",
              "    <tr>\n",
              "      <th>2</th>\n",
              "      <td>Cardano ADA Current Price:\\n$1.1938\\n1 Hour: -...</td>\n",
              "    </tr>\n",
              "    <tr>\n",
              "      <th>3</th>\n",
              "      <td>#Cardano is bringing day by day the revolution...</td>\n",
              "    </tr>\n",
              "    <tr>\n",
              "      <th>4</th>\n",
              "      <td>@justinsuntron @elonmusk Mars is for #Cardano ADA</td>\n",
              "    </tr>\n",
              "    <tr>\n",
              "      <th>5</th>\n",
              "      <td>Live:\\n@Crypto_Lodge\\n👇\\nhttps://t.co/1uky0YV8...</td>\n",
              "    </tr>\n",
              "    <tr>\n",
              "      <th>6</th>\n",
              "      <td>good day to #doge 🚀🚀🚀 just yesterday add some ...</td>\n",
              "    </tr>\n",
              "    <tr>\n",
              "      <th>7</th>\n",
              "      <td>Congratulations to #Cardano on reaching 100% d...</td>\n",
              "    </tr>\n",
              "    <tr>\n",
              "      <th>8</th>\n",
              "      <td>April will be huge for #Cardano https://t.co/5...</td>\n",
              "    </tr>\n",
              "    <tr>\n",
              "      <th>9</th>\n",
              "      <td>@TheADAApe I can't wait to swap on #Cardano.</td>\n",
              "    </tr>\n",
              "  </tbody>\n",
              "</table>\n",
              "</div>"
            ],
            "text/plain": [
              "                                              Tweets\n",
              "0  🥂AUNTIES🥂\\n\\n🤪’POPE LONERGAN IS PLIMMIN’ AND L...\n",
              "1  Today we have crossed 400K delegated wallets🔥🔥...\n",
              "2  Cardano ADA Current Price:\\n$1.1938\\n1 Hour: -...\n",
              "3  #Cardano is bringing day by day the revolution...\n",
              "4  @justinsuntron @elonmusk Mars is for #Cardano ADA\n",
              "5  Live:\\n@Crypto_Lodge\\n👇\\nhttps://t.co/1uky0YV8...\n",
              "6  good day to #doge 🚀🚀🚀 just yesterday add some ...\n",
              "7  Congratulations to #Cardano on reaching 100% d...\n",
              "8  April will be huge for #Cardano https://t.co/5...\n",
              "9       @TheADAApe I can't wait to swap on #Cardano."
            ]
          },
          "metadata": {
            "tags": []
          },
          "execution_count": 33
        }
      ]
    },
    {
      "cell_type": "code",
      "metadata": {
        "id": "ecE6KP2CQDNO"
      },
      "source": [
        "#Create a function to clean the tweets\n",
        "def cleanTwt(twt):\n",
        "  twt = re.sub('#cardano', 'cardano', twt)\n",
        "  twt = re.sub('#Cardano', 'Cardano', twt)\n",
        "  twt = re.sub('#[A-Za-z0-9]+', '', twt)\n",
        "  twt = re.sub('\\\\n', '', twt)\n",
        "  twt = re.sub('https?:\\/\\/\\S+','', twt) #removes any hyperlinks\n",
        "  return twt\n"
      ],
      "execution_count": 34,
      "outputs": []
    },
    {
      "cell_type": "code",
      "metadata": {
        "id": "PATFwMSrSCcP",
        "colab": {
          "base_uri": "https://localhost:8080/",
          "height": 359
        },
        "outputId": "46d4bd04-1afb-4317-def4-57027d4bd4e6"
      },
      "source": [
        "#Clean the tweets\n",
        "df['Cleaned_Tweets'] = df['Tweets'].apply(cleanTwt)\n",
        "#result\n",
        "df.head(10)"
      ],
      "execution_count": 35,
      "outputs": [
        {
          "output_type": "execute_result",
          "data": {
            "text/html": [
              "<div>\n",
              "<style scoped>\n",
              "    .dataframe tbody tr th:only-of-type {\n",
              "        vertical-align: middle;\n",
              "    }\n",
              "\n",
              "    .dataframe tbody tr th {\n",
              "        vertical-align: top;\n",
              "    }\n",
              "\n",
              "    .dataframe thead th {\n",
              "        text-align: right;\n",
              "    }\n",
              "</style>\n",
              "<table border=\"1\" class=\"dataframe\">\n",
              "  <thead>\n",
              "    <tr style=\"text-align: right;\">\n",
              "      <th></th>\n",
              "      <th>Tweets</th>\n",
              "      <th>Cleaned_Tweets</th>\n",
              "    </tr>\n",
              "  </thead>\n",
              "  <tbody>\n",
              "    <tr>\n",
              "      <th>0</th>\n",
              "      <td>🥂AUNTIES🥂\\n\\n🤪’POPE LONERGAN IS PLIMMIN’ AND L...</td>\n",
              "      <td>🥂AUNTIES🥂🤪’POPE LONERGAN IS PLIMMIN’ AND LOMPI...</td>\n",
              "    </tr>\n",
              "    <tr>\n",
              "      <th>1</th>\n",
              "      <td>Today we have crossed 400K delegated wallets🔥🔥...</td>\n",
              "      <td>Today we have crossed 400K delegated wallets🔥🔥...</td>\n",
              "    </tr>\n",
              "    <tr>\n",
              "      <th>2</th>\n",
              "      <td>Cardano ADA Current Price:\\n$1.1938\\n1 Hour: -...</td>\n",
              "      <td>Cardano ADA Current Price:$1.19381 Hour: -0.06...</td>\n",
              "    </tr>\n",
              "    <tr>\n",
              "      <th>3</th>\n",
              "      <td>#Cardano is bringing day by day the revolution...</td>\n",
              "      <td>Cardano is bringing day by day the revolution ...</td>\n",
              "    </tr>\n",
              "    <tr>\n",
              "      <th>4</th>\n",
              "      <td>@justinsuntron @elonmusk Mars is for #Cardano ADA</td>\n",
              "      <td>@justinsuntron @elonmusk Mars is for Cardano ADA</td>\n",
              "    </tr>\n",
              "    <tr>\n",
              "      <th>5</th>\n",
              "      <td>Live:\\n@Crypto_Lodge\\n👇\\nhttps://t.co/1uky0YV8...</td>\n",
              "      <td>Live:@Crypto_Lodge👇 Charts, Fun 🙃   $BTC      ...</td>\n",
              "    </tr>\n",
              "    <tr>\n",
              "      <th>6</th>\n",
              "      <td>good day to #doge 🚀🚀🚀 just yesterday add some ...</td>\n",
              "      <td>good day to  🚀🚀🚀 just yesterday add some more ...</td>\n",
              "    </tr>\n",
              "    <tr>\n",
              "      <th>7</th>\n",
              "      <td>Congratulations to #Cardano on reaching 100% d...</td>\n",
              "      <td>Congratulations to Cardano on reaching 100% de...</td>\n",
              "    </tr>\n",
              "    <tr>\n",
              "      <th>8</th>\n",
              "      <td>April will be huge for #Cardano https://t.co/5...</td>\n",
              "      <td>April will be huge for Cardano</td>\n",
              "    </tr>\n",
              "    <tr>\n",
              "      <th>9</th>\n",
              "      <td>@TheADAApe I can't wait to swap on #Cardano.</td>\n",
              "      <td>@TheADAApe I can't wait to swap on Cardano.</td>\n",
              "    </tr>\n",
              "  </tbody>\n",
              "</table>\n",
              "</div>"
            ],
            "text/plain": [
              "                                              Tweets                                     Cleaned_Tweets\n",
              "0  🥂AUNTIES🥂\\n\\n🤪’POPE LONERGAN IS PLIMMIN’ AND L...  🥂AUNTIES🥂🤪’POPE LONERGAN IS PLIMMIN’ AND LOMPI...\n",
              "1  Today we have crossed 400K delegated wallets🔥🔥...  Today we have crossed 400K delegated wallets🔥🔥...\n",
              "2  Cardano ADA Current Price:\\n$1.1938\\n1 Hour: -...  Cardano ADA Current Price:$1.19381 Hour: -0.06...\n",
              "3  #Cardano is bringing day by day the revolution...  Cardano is bringing day by day the revolution ...\n",
              "4  @justinsuntron @elonmusk Mars is for #Cardano ADA   @justinsuntron @elonmusk Mars is for Cardano ADA\n",
              "5  Live:\\n@Crypto_Lodge\\n👇\\nhttps://t.co/1uky0YV8...  Live:@Crypto_Lodge👇 Charts, Fun 🙃   $BTC      ...\n",
              "6  good day to #doge 🚀🚀🚀 just yesterday add some ...  good day to  🚀🚀🚀 just yesterday add some more ...\n",
              "7  Congratulations to #Cardano on reaching 100% d...  Congratulations to Cardano on reaching 100% de...\n",
              "8  April will be huge for #Cardano https://t.co/5...                    April will be huge for Cardano \n",
              "9       @TheADAApe I can't wait to swap on #Cardano.        @TheADAApe I can't wait to swap on Cardano."
            ]
          },
          "metadata": {
            "tags": []
          },
          "execution_count": 35
        }
      ]
    },
    {
      "cell_type": "code",
      "metadata": {
        "id": "HFBhUz93SWtO",
        "colab": {
          "base_uri": "https://localhost:8080/",
          "height": 359
        },
        "outputId": "ed0d5c4f-dddb-4459-b715-9380be170e2b"
      },
      "source": [
        "#Create a function to get the subjectivity\n",
        "def getSubjectivity(twt):\n",
        "  return TextBlob(twt).sentiment.subjectivity\n",
        "#Create a function to get the polarity\n",
        "def getPolarity(twt):\n",
        "  return TextBlob(twt).sentiment.polarity\n",
        "\n",
        "#Create two new columns called subjectivity and Polarity\n",
        "df['Subjectivity'] = df['Cleaned_Tweets'].apply(getSubjectivity)\n",
        "df['Polarity'] = df['Cleaned_Tweets'].apply(getPolarity)\n",
        "\n",
        "#show\n",
        "df.head(10)"
      ],
      "execution_count": 36,
      "outputs": [
        {
          "output_type": "execute_result",
          "data": {
            "text/html": [
              "<div>\n",
              "<style scoped>\n",
              "    .dataframe tbody tr th:only-of-type {\n",
              "        vertical-align: middle;\n",
              "    }\n",
              "\n",
              "    .dataframe tbody tr th {\n",
              "        vertical-align: top;\n",
              "    }\n",
              "\n",
              "    .dataframe thead th {\n",
              "        text-align: right;\n",
              "    }\n",
              "</style>\n",
              "<table border=\"1\" class=\"dataframe\">\n",
              "  <thead>\n",
              "    <tr style=\"text-align: right;\">\n",
              "      <th></th>\n",
              "      <th>Tweets</th>\n",
              "      <th>Cleaned_Tweets</th>\n",
              "      <th>Subjectivity</th>\n",
              "      <th>Polarity</th>\n",
              "    </tr>\n",
              "  </thead>\n",
              "  <tbody>\n",
              "    <tr>\n",
              "      <th>0</th>\n",
              "      <td>🥂AUNTIES🥂\\n\\n🤪’POPE LONERGAN IS PLIMMIN’ AND L...</td>\n",
              "      <td>🥂AUNTIES🥂🤪’POPE LONERGAN IS PLIMMIN’ AND LOMPI...</td>\n",
              "      <td>0.000000</td>\n",
              "      <td>0.000000</td>\n",
              "    </tr>\n",
              "    <tr>\n",
              "      <th>1</th>\n",
              "      <td>Today we have crossed 400K delegated wallets🔥🔥...</td>\n",
              "      <td>Today we have crossed 400K delegated wallets🔥🔥...</td>\n",
              "      <td>0.636364</td>\n",
              "      <td>0.224242</td>\n",
              "    </tr>\n",
              "    <tr>\n",
              "      <th>2</th>\n",
              "      <td>Cardano ADA Current Price:\\n$1.1938\\n1 Hour: -...</td>\n",
              "      <td>Cardano ADA Current Price:$1.19381 Hour: -0.06...</td>\n",
              "      <td>0.400000</td>\n",
              "      <td>0.000000</td>\n",
              "    </tr>\n",
              "    <tr>\n",
              "      <th>3</th>\n",
              "      <td>#Cardano is bringing day by day the revolution...</td>\n",
              "      <td>Cardano is bringing day by day the revolution ...</td>\n",
              "      <td>0.333333</td>\n",
              "      <td>0.250000</td>\n",
              "    </tr>\n",
              "    <tr>\n",
              "      <th>4</th>\n",
              "      <td>@justinsuntron @elonmusk Mars is for #Cardano ADA</td>\n",
              "      <td>@justinsuntron @elonmusk Mars is for Cardano ADA</td>\n",
              "      <td>0.000000</td>\n",
              "      <td>0.000000</td>\n",
              "    </tr>\n",
              "    <tr>\n",
              "      <th>5</th>\n",
              "      <td>Live:\\n@Crypto_Lodge\\n👇\\nhttps://t.co/1uky0YV8...</td>\n",
              "      <td>Live:@Crypto_Lodge👇 Charts, Fun 🙃   $BTC      ...</td>\n",
              "      <td>0.200000</td>\n",
              "      <td>0.300000</td>\n",
              "    </tr>\n",
              "    <tr>\n",
              "      <th>6</th>\n",
              "      <td>good day to #doge 🚀🚀🚀 just yesterday add some ...</td>\n",
              "      <td>good day to  🚀🚀🚀 just yesterday add some more ...</td>\n",
              "      <td>0.650000</td>\n",
              "      <td>0.483333</td>\n",
              "    </tr>\n",
              "    <tr>\n",
              "      <th>7</th>\n",
              "      <td>Congratulations to #Cardano on reaching 100% d...</td>\n",
              "      <td>Congratulations to Cardano on reaching 100% de...</td>\n",
              "      <td>0.500000</td>\n",
              "      <td>0.500000</td>\n",
              "    </tr>\n",
              "    <tr>\n",
              "      <th>8</th>\n",
              "      <td>April will be huge for #Cardano https://t.co/5...</td>\n",
              "      <td>April will be huge for Cardano</td>\n",
              "      <td>0.900000</td>\n",
              "      <td>0.400000</td>\n",
              "    </tr>\n",
              "    <tr>\n",
              "      <th>9</th>\n",
              "      <td>@TheADAApe I can't wait to swap on #Cardano.</td>\n",
              "      <td>@TheADAApe I can't wait to swap on Cardano.</td>\n",
              "      <td>0.000000</td>\n",
              "      <td>0.000000</td>\n",
              "    </tr>\n",
              "  </tbody>\n",
              "</table>\n",
              "</div>"
            ],
            "text/plain": [
              "                                              Tweets  ...  Polarity\n",
              "0  🥂AUNTIES🥂\\n\\n🤪’POPE LONERGAN IS PLIMMIN’ AND L...  ...  0.000000\n",
              "1  Today we have crossed 400K delegated wallets🔥🔥...  ...  0.224242\n",
              "2  Cardano ADA Current Price:\\n$1.1938\\n1 Hour: -...  ...  0.000000\n",
              "3  #Cardano is bringing day by day the revolution...  ...  0.250000\n",
              "4  @justinsuntron @elonmusk Mars is for #Cardano ADA  ...  0.000000\n",
              "5  Live:\\n@Crypto_Lodge\\n👇\\nhttps://t.co/1uky0YV8...  ...  0.300000\n",
              "6  good day to #doge 🚀🚀🚀 just yesterday add some ...  ...  0.483333\n",
              "7  Congratulations to #Cardano on reaching 100% d...  ...  0.500000\n",
              "8  April will be huge for #Cardano https://t.co/5...  ...  0.400000\n",
              "9       @TheADAApe I can't wait to swap on #Cardano.  ...  0.000000\n",
              "\n",
              "[10 rows x 4 columns]"
            ]
          },
          "metadata": {
            "tags": []
          },
          "execution_count": 36
        }
      ]
    },
    {
      "cell_type": "code",
      "metadata": {
        "id": "ZLZzBpZaX3dq"
      },
      "source": [
        "#Create a function to get the sentiment text\n",
        "def getSentiment(Score):\n",
        "  if Score < 0:\n",
        "    return 'Negative'\n",
        "  elif Score == 0:\n",
        "    return 'Neutral'\n",
        "  else:\n",
        "    return 'Positive'\n",
        "\n"
      ],
      "execution_count": 37,
      "outputs": []
    },
    {
      "cell_type": "code",
      "metadata": {
        "colab": {
          "base_uri": "https://localhost:8080/",
          "height": 359
        },
        "id": "DlOwt0PjZPzt",
        "outputId": "22387daa-61e2-4f50-a51a-a0254e100285"
      },
      "source": [
        "# Create a column called Sentiment\n",
        "df['Sentiment'] = df['Polarity'].apply(getSentiment)\n",
        "\n",
        "#Show\n",
        "df.head(10)"
      ],
      "execution_count": 38,
      "outputs": [
        {
          "output_type": "execute_result",
          "data": {
            "text/html": [
              "<div>\n",
              "<style scoped>\n",
              "    .dataframe tbody tr th:only-of-type {\n",
              "        vertical-align: middle;\n",
              "    }\n",
              "\n",
              "    .dataframe tbody tr th {\n",
              "        vertical-align: top;\n",
              "    }\n",
              "\n",
              "    .dataframe thead th {\n",
              "        text-align: right;\n",
              "    }\n",
              "</style>\n",
              "<table border=\"1\" class=\"dataframe\">\n",
              "  <thead>\n",
              "    <tr style=\"text-align: right;\">\n",
              "      <th></th>\n",
              "      <th>Tweets</th>\n",
              "      <th>Cleaned_Tweets</th>\n",
              "      <th>Subjectivity</th>\n",
              "      <th>Polarity</th>\n",
              "      <th>Sentiment</th>\n",
              "    </tr>\n",
              "  </thead>\n",
              "  <tbody>\n",
              "    <tr>\n",
              "      <th>0</th>\n",
              "      <td>🥂AUNTIES🥂\\n\\n🤪’POPE LONERGAN IS PLIMMIN’ AND L...</td>\n",
              "      <td>🥂AUNTIES🥂🤪’POPE LONERGAN IS PLIMMIN’ AND LOMPI...</td>\n",
              "      <td>0.000000</td>\n",
              "      <td>0.000000</td>\n",
              "      <td>Neutral</td>\n",
              "    </tr>\n",
              "    <tr>\n",
              "      <th>1</th>\n",
              "      <td>Today we have crossed 400K delegated wallets🔥🔥...</td>\n",
              "      <td>Today we have crossed 400K delegated wallets🔥🔥...</td>\n",
              "      <td>0.636364</td>\n",
              "      <td>0.224242</td>\n",
              "      <td>Positive</td>\n",
              "    </tr>\n",
              "    <tr>\n",
              "      <th>2</th>\n",
              "      <td>Cardano ADA Current Price:\\n$1.1938\\n1 Hour: -...</td>\n",
              "      <td>Cardano ADA Current Price:$1.19381 Hour: -0.06...</td>\n",
              "      <td>0.400000</td>\n",
              "      <td>0.000000</td>\n",
              "      <td>Neutral</td>\n",
              "    </tr>\n",
              "    <tr>\n",
              "      <th>3</th>\n",
              "      <td>#Cardano is bringing day by day the revolution...</td>\n",
              "      <td>Cardano is bringing day by day the revolution ...</td>\n",
              "      <td>0.333333</td>\n",
              "      <td>0.250000</td>\n",
              "      <td>Positive</td>\n",
              "    </tr>\n",
              "    <tr>\n",
              "      <th>4</th>\n",
              "      <td>@justinsuntron @elonmusk Mars is for #Cardano ADA</td>\n",
              "      <td>@justinsuntron @elonmusk Mars is for Cardano ADA</td>\n",
              "      <td>0.000000</td>\n",
              "      <td>0.000000</td>\n",
              "      <td>Neutral</td>\n",
              "    </tr>\n",
              "    <tr>\n",
              "      <th>5</th>\n",
              "      <td>Live:\\n@Crypto_Lodge\\n👇\\nhttps://t.co/1uky0YV8...</td>\n",
              "      <td>Live:@Crypto_Lodge👇 Charts, Fun 🙃   $BTC      ...</td>\n",
              "      <td>0.200000</td>\n",
              "      <td>0.300000</td>\n",
              "      <td>Positive</td>\n",
              "    </tr>\n",
              "    <tr>\n",
              "      <th>6</th>\n",
              "      <td>good day to #doge 🚀🚀🚀 just yesterday add some ...</td>\n",
              "      <td>good day to  🚀🚀🚀 just yesterday add some more ...</td>\n",
              "      <td>0.650000</td>\n",
              "      <td>0.483333</td>\n",
              "      <td>Positive</td>\n",
              "    </tr>\n",
              "    <tr>\n",
              "      <th>7</th>\n",
              "      <td>Congratulations to #Cardano on reaching 100% d...</td>\n",
              "      <td>Congratulations to Cardano on reaching 100% de...</td>\n",
              "      <td>0.500000</td>\n",
              "      <td>0.500000</td>\n",
              "      <td>Positive</td>\n",
              "    </tr>\n",
              "    <tr>\n",
              "      <th>8</th>\n",
              "      <td>April will be huge for #Cardano https://t.co/5...</td>\n",
              "      <td>April will be huge for Cardano</td>\n",
              "      <td>0.900000</td>\n",
              "      <td>0.400000</td>\n",
              "      <td>Positive</td>\n",
              "    </tr>\n",
              "    <tr>\n",
              "      <th>9</th>\n",
              "      <td>@TheADAApe I can't wait to swap on #Cardano.</td>\n",
              "      <td>@TheADAApe I can't wait to swap on Cardano.</td>\n",
              "      <td>0.000000</td>\n",
              "      <td>0.000000</td>\n",
              "      <td>Neutral</td>\n",
              "    </tr>\n",
              "  </tbody>\n",
              "</table>\n",
              "</div>"
            ],
            "text/plain": [
              "                                              Tweets  ... Sentiment\n",
              "0  🥂AUNTIES🥂\\n\\n🤪’POPE LONERGAN IS PLIMMIN’ AND L...  ...   Neutral\n",
              "1  Today we have crossed 400K delegated wallets🔥🔥...  ...  Positive\n",
              "2  Cardano ADA Current Price:\\n$1.1938\\n1 Hour: -...  ...   Neutral\n",
              "3  #Cardano is bringing day by day the revolution...  ...  Positive\n",
              "4  @justinsuntron @elonmusk Mars is for #Cardano ADA  ...   Neutral\n",
              "5  Live:\\n@Crypto_Lodge\\n👇\\nhttps://t.co/1uky0YV8...  ...  Positive\n",
              "6  good day to #doge 🚀🚀🚀 just yesterday add some ...  ...  Positive\n",
              "7  Congratulations to #Cardano on reaching 100% d...  ...  Positive\n",
              "8  April will be huge for #Cardano https://t.co/5...  ...  Positive\n",
              "9       @TheADAApe I can't wait to swap on #Cardano.  ...   Neutral\n",
              "\n",
              "[10 rows x 5 columns]"
            ]
          },
          "metadata": {
            "tags": []
          },
          "execution_count": 38
        }
      ]
    },
    {
      "cell_type": "code",
      "metadata": {
        "colab": {
          "base_uri": "https://localhost:8080/",
          "height": 405
        },
        "id": "eICNXBoEapH1",
        "outputId": "e00ee3dd-97bf-44e8-aeb0-5002c9e44fe3"
      },
      "source": [
        "#create a scatter plot to show the subjectivity and polarity\n",
        "plt.figure(figsize=(8,6))\n",
        "for i in range(0, df.shape[0]):\n",
        "  plt.scatter(df['Polarity'][i],df['Subjectivity'][i], color ='blue')\n",
        "plt.title('Sentiment analysis Scatter Plot')\n",
        "plt.xlabel('Polarity')\n",
        "plt.ylabel('Subjectivity')\n",
        "plt.show()"
      ],
      "execution_count": 39,
      "outputs": [
        {
          "output_type": "display_data",
          "data": {
            "image/png": "[encoded data removed]",
            "text/plain": [
              "<Figure size 576x432 with 1 Axes>"
            ]
          },
          "metadata": {
            "tags": [],
            "needs_background": "light"
          }
        }
      ]
    },
    {
      "cell_type": "code",
      "metadata": {
        "colab": {
          "base_uri": "https://localhost:8080/",
          "height": 439
        },
        "id": "Rp1L1ZSkbMWU",
        "outputId": "a4fad075-93bf-4158-d365-8762938da731"
      },
      "source": [
        "#Create a bar chart to show the count of positive, negative and neutral sentiment in the market\n",
        "plt.figure(figsize=(8,6))\n",
        "df['Sentiment'].value_counts().plot(kind='bar')\n",
        "plt.title('Cardano Sentiment in the Twitter')\n",
        "plt.xlabel('Numbers')\n",
        "plt.ylabel('Sentiments')\n",
        "plt.show()"
      ],
      "execution_count": 43,
      "outputs": [
        {
          "output_type": "display_data",
          "data": {
            "image/png": "[encoded data removed]",
            "text/plain": [
              "<Figure size 576x432 with 1 Axes>"
            ]
          },
          "metadata": {
            "tags": [],
            "needs_background": "light"
          }
        }
      ]
    },
    {
      "cell_type": "code",
      "metadata": {
        "id": "CfLQVMU8cxy9",
        "outputId": "06a8a385-f1a7-456d-9ef4-0949b5b77afc",
        "colab": {
          "base_uri": "https://localhost:8080/",
          "height": 391
        }
      },
      "source": [
        "plt.figure(figsize=(8,6))\n",
        "df['Sentiment'].value_counts().plot(kind='pie')\n",
        "plt.title('Cardano Sentiment in the Twitter')\n",
        "plt.xlabel('Numbers')\n",
        "plt.ylabel('Sentiments')\n",
        "plt.show()"
      ],
      "execution_count": 42,
      "outputs": [
        {
          "output_type": "display_data",
          "data": {
            "image/png": "[encoded data removed]",
            "text/plain": [
              "<Figure size 576x432 with 1 Axes>"
            ]
          },
          "metadata": {
            "tags": []
          }
        }
      ]
    },
    {
      "cell_type": "code",
      "metadata": {
        "id": "EgibDz86eBM8"
      },
      "source": [
        ""
      ],
      "execution_count": null,
      "outputs": []
    }
  ]
}