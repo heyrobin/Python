{
  "nbformat": 4,
  "nbformat_minor": 0,
  "metadata": {
    "colab": {
      "name": "Bitcoin Sentiment analysis.ipynb",
      "provenance": [],
      "collapsed_sections": [],
      "authorship_tag": "ABX9TyP/Veq1P9fQkj9fR9al9mfc",
      "include_colab_link": true
    },
    "kernelspec": {
      "name": "python3",
      "display_name": "Python 3"
    },
    "language_info": {
      "name": "python"
    }
  },
  "cells": [
    {
      "cell_type": "markdown",
      "metadata": {
        "id": "view-in-github",
        "colab_type": "text"
      },
      "source": [
        "<a href=\"https://colab.research.google.com/github/heyrobin/Python/blob/main/Sentiment%20Analysis/Cardano_Sentiment_analysis.ipynb\" target=\"_parent\"><img src=\"https://colab.research.google.com/assets/colab-badge.svg\" alt=\"Open In Colab\"/></a>"
      ]
    },
    {
      "cell_type": "code",
      "metadata": {
        "id": "rtLpsclklCUl"
      },
      "source": [
        "#importing libraries\n",
        "import tweepy\n",
        "from textblob import TextBlob\n",
        "import numpy as np\n",
        "import pandas as pd\n",
        "import re\n",
        "import matplotlib.pyplot as plt\n",
        "plt.style.use('fivethirtyeight')\n"
      ],
      "execution_count": 1,
      "outputs": []
    },
    {
      "cell_type": "code",
      "metadata": {
        "id": "V-OQzv26lNpO"
      },
      "source": [
        "#importing keys to authenticate the access twitter API\n",
        "#connect as OATH handler\n",
        "consumer_key = \"8AO6OU5ubyi4XO47b1C7Sjdlz\"\n",
        "consumer_sec = \"FS1usPrfPolvjLXbwGka5N8TWkOZhUsdxGmmTwuO016koesUSt\"\n",
        "\n",
        "# from proxy server we need to connect\n",
        "access_token = \"1151573806680592384-OUFeUtpsRFZM6jQxl1AG99NEjlY0Kt\"\n",
        "access_token_sec = \"KKHmkHkDGVaDof8XK4fKKI52DmNl4vZlaXnx85WRfd4Lr\"\n"
      ],
      "execution_count": 2,
      "outputs": []
    },
    {
      "cell_type": "code",
      "metadata": {
        "colab": {
          "base_uri": "https://localhost:8080/"
        },
        "id": "LbjtUCQzLmNr",
        "outputId": "76bba6fd-3e14-4a25-b4f6-d1984da0f03a"
      },
      "source": [
        "#explore tweepy\n",
        "dir(tweepy)"
      ],
      "execution_count": 3,
      "outputs": [
        {
          "output_type": "execute_result",
          "data": {
            "text/plain": [
              "['API',\n",
              " 'AppAuthHandler',\n",
              " 'Cache',\n",
              " 'Cursor',\n",
              " 'DirectMessage',\n",
              " 'FileCache',\n",
              " 'Friendship',\n",
              " 'MemoryCache',\n",
              " 'ModelFactory',\n",
              " 'OAuthHandler',\n",
              " 'RateLimitError',\n",
              " 'SavedSearch',\n",
              " 'SearchResults',\n",
              " 'Status',\n",
              " 'Stream',\n",
              " 'StreamListener',\n",
              " 'TweepError',\n",
              " 'User',\n",
              " '__author__',\n",
              " '__builtins__',\n",
              " '__cached__',\n",
              " '__doc__',\n",
              " '__file__',\n",
              " '__license__',\n",
              " '__loader__',\n",
              " '__name__',\n",
              " '__package__',\n",
              " '__path__',\n",
              " '__spec__',\n",
              " '__version__',\n",
              " 'api',\n",
              " 'auth',\n",
              " 'binder',\n",
              " 'cache',\n",
              " 'cursor',\n",
              " 'debug',\n",
              " 'error',\n",
              " 'models',\n",
              " 'parsers',\n",
              " 'streaming',\n",
              " 'utils']"
            ]
          },
          "metadata": {
            "tags": []
          },
          "execution_count": 3
        }
      ]
    },
    {
      "cell_type": "code",
      "metadata": {
        "id": "F5RpZWhNL-ST"
      },
      "source": [
        "#creating authentication object\n",
        "authenticate = tweepy.OAuthHandler(consumer_key,consumer_sec)\n",
        "#set the access token and the access token secret\n",
        "authenticate.set_access_token(access_token,access_token_sec)\n",
        "#create the API object\n",
        "api = tweepy.API(authenticate)"
      ],
      "execution_count": 4,
      "outputs": []
    },
    {
      "cell_type": "code",
      "metadata": {
        "id": "Pw7qdmiuNYr1"
      },
      "source": [
        "#Gather 1000 tweets about cardano and filter out any retweets\n",
        "search_term = '#cardano -filter:retweets'\n",
        "#Create a cursor object\n",
        "tweets = tweepy.Cursor(api.search, q=search_term, lang='en', since='2021-01-01',tweet_mode= 'extended').items(2000)\n",
        "#store the tweets in variable and get the full text\n",
        "all_tweets = [tweet.full_text for tweet in tweets]"
      ],
      "execution_count": 5,
      "outputs": []
    },
    {
      "cell_type": "code",
      "metadata": {
        "id": "OTF34g55PVa1",
        "colab": {
          "base_uri": "https://localhost:8080/",
          "height": 359
        },
        "outputId": "9f2b7ff0-fe0e-44c4-c2c9-805ad21e7fbe"
      },
      "source": [
        "#create a dataframe to store the tweets with a column called 'Tweets'\n",
        "df = pd.DataFrame(all_tweets, columns=['Tweets'])\n",
        "df.head(10)"
      ],
      "execution_count": 6,
      "outputs": [
        {
          "output_type": "execute_result",
          "data": {
            "text/html": [
              "<div>\n",
              "<style scoped>\n",
              "    .dataframe tbody tr th:only-of-type {\n",
              "        vertical-align: middle;\n",
              "    }\n",
              "\n",
              "    .dataframe tbody tr th {\n",
              "        vertical-align: top;\n",
              "    }\n",
              "\n",
              "    .dataframe thead th {\n",
              "        text-align: right;\n",
              "    }\n",
              "</style>\n",
              "<table border=\"1\" class=\"dataframe\">\n",
              "  <thead>\n",
              "    <tr style=\"text-align: right;\">\n",
              "      <th></th>\n",
              "      <th>Tweets</th>\n",
              "    </tr>\n",
              "  </thead>\n",
              "  <tbody>\n",
              "    <tr>\n",
              "      <th>0</th>\n",
              "      <td>My $ALPACA price is at $10 #UnderRated \\n\\n___...</td>\n",
              "    </tr>\n",
              "    <tr>\n",
              "      <th>1</th>\n",
              "      <td>1st of April! #DOGE is pumping! PUMP SEASON is...</td>\n",
              "    </tr>\n",
              "    <tr>\n",
              "      <th>2</th>\n",
              "      <td>#Cardano EPOCH 255 results for minting $ADA ht...</td>\n",
              "    </tr>\n",
              "    <tr>\n",
              "      <th>3</th>\n",
              "      <td>Cardano: Hoskinson outlines roadmap for infras...</td>\n",
              "    </tr>\n",
              "    <tr>\n",
              "      <th>4</th>\n",
              "      <td>Cardano: Hoskinson outlines roadmap for infras...</td>\n",
              "    </tr>\n",
              "    <tr>\n",
              "      <th>5</th>\n",
              "      <td>Today d = 0\\nI am so proud of being #Cardano S...</td>\n",
              "    </tr>\n",
              "    <tr>\n",
              "      <th>6</th>\n",
              "      <td>All the #psychedelic research supporters🍄\\nTha...</td>\n",
              "    </tr>\n",
              "    <tr>\n",
              "      <th>7</th>\n",
              "      <td>Looks like PoolPeek mobile is now available in...</td>\n",
              "    </tr>\n",
              "    <tr>\n",
              "      <th>8</th>\n",
              "      <td>Any potential delegators waiting on the sideli...</td>\n",
              "    </tr>\n",
              "    <tr>\n",
              "      <th>9</th>\n",
              "      <td>Cardano, the most decentralized POS blockchain...</td>\n",
              "    </tr>\n",
              "  </tbody>\n",
              "</table>\n",
              "</div>"
            ],
            "text/plain": [
              "                                              Tweets\n",
              "0  My $ALPACA price is at $10 #UnderRated \\n\\n___...\n",
              "1  1st of April! #DOGE is pumping! PUMP SEASON is...\n",
              "2  #Cardano EPOCH 255 results for minting $ADA ht...\n",
              "3  Cardano: Hoskinson outlines roadmap for infras...\n",
              "4  Cardano: Hoskinson outlines roadmap for infras...\n",
              "5  Today d = 0\\nI am so proud of being #Cardano S...\n",
              "6  All the #psychedelic research supporters🍄\\nTha...\n",
              "7  Looks like PoolPeek mobile is now available in...\n",
              "8  Any potential delegators waiting on the sideli...\n",
              "9  Cardano, the most decentralized POS blockchain..."
            ]
          },
          "metadata": {
            "tags": []
          },
          "execution_count": 6
        }
      ]
    },
    {
      "cell_type": "code",
      "metadata": {
        "id": "ecE6KP2CQDNO"
      },
      "source": [
        "#Create a function to clean the tweets\n",
        "def cleanTwt(twt):\n",
        "  twt = re.sub('#cardano', 'cardano', twt)\n",
        "  twt = re.sub('#Cardano', 'Cardano', twt)\n",
        "  twt = re.sub('#[A-Za-z0-9]+', '', twt)\n",
        "  twt = re.sub('\\\\n', '', twt)\n",
        "  twt = re.sub('https?:\\/\\/\\S+','', twt) #removes any hyperlinks\n",
        "  return twt\n"
      ],
      "execution_count": 7,
      "outputs": []
    },
    {
      "cell_type": "code",
      "metadata": {
        "id": "PATFwMSrSCcP",
        "colab": {
          "base_uri": "https://localhost:8080/",
          "height": 359
        },
        "outputId": "386f0f7a-deb7-4022-8a8d-f5c790cdb58e"
      },
      "source": [
        "#Clean the tweets\n",
        "df['Cleaned_Tweets'] = df['Tweets'].apply(cleanTwt)\n",
        "#result\n",
        "df.head(10)"
      ],
      "execution_count": 8,
      "outputs": [
        {
          "output_type": "execute_result",
          "data": {
            "text/html": [
              "<div>\n",
              "<style scoped>\n",
              "    .dataframe tbody tr th:only-of-type {\n",
              "        vertical-align: middle;\n",
              "    }\n",
              "\n",
              "    .dataframe tbody tr th {\n",
              "        vertical-align: top;\n",
              "    }\n",
              "\n",
              "    .dataframe thead th {\n",
              "        text-align: right;\n",
              "    }\n",
              "</style>\n",
              "<table border=\"1\" class=\"dataframe\">\n",
              "  <thead>\n",
              "    <tr style=\"text-align: right;\">\n",
              "      <th></th>\n",
              "      <th>Tweets</th>\n",
              "      <th>Cleaned_Tweets</th>\n",
              "    </tr>\n",
              "  </thead>\n",
              "  <tbody>\n",
              "    <tr>\n",
              "      <th>0</th>\n",
              "      <td>My $ALPACA price is at $10 #UnderRated \\n\\n___...</td>\n",
              "      <td>My $ALPACA price is at $10  ________@AlpacaFin...</td>\n",
              "    </tr>\n",
              "    <tr>\n",
              "      <th>1</th>\n",
              "      <td>1st of April! #DOGE is pumping! PUMP SEASON is...</td>\n",
              "      <td>1st of April!  is pumping! PUMP SEASON is comi...</td>\n",
              "    </tr>\n",
              "    <tr>\n",
              "      <th>2</th>\n",
              "      <td>#Cardano EPOCH 255 results for minting $ADA ht...</td>\n",
              "      <td>Cardano EPOCH 255 results for minting $ADA</td>\n",
              "    </tr>\n",
              "    <tr>\n",
              "      <th>3</th>\n",
              "      <td>Cardano: Hoskinson outlines roadmap for infras...</td>\n",
              "      <td>Cardano: Hoskinson outlines roadmap for infras...</td>\n",
              "    </tr>\n",
              "    <tr>\n",
              "      <th>4</th>\n",
              "      <td>Cardano: Hoskinson outlines roadmap for infras...</td>\n",
              "      <td>Cardano: Hoskinson outlines roadmap for infras...</td>\n",
              "    </tr>\n",
              "    <tr>\n",
              "      <th>5</th>\n",
              "      <td>Today d = 0\\nI am so proud of being #Cardano S...</td>\n",
              "      <td>Today d = 0I am so proud of being Cardano SPO ...</td>\n",
              "    </tr>\n",
              "    <tr>\n",
              "      <th>6</th>\n",
              "      <td>All the #psychedelic research supporters🍄\\nTha...</td>\n",
              "      <td>All the  research supporters🍄Thanks for joinin...</td>\n",
              "    </tr>\n",
              "    <tr>\n",
              "      <th>7</th>\n",
              "      <td>Looks like PoolPeek mobile is now available in...</td>\n",
              "      <td>Looks like PoolPeek mobile is now available in...</td>\n",
              "    </tr>\n",
              "    <tr>\n",
              "      <th>8</th>\n",
              "      <td>Any potential delegators waiting on the sideli...</td>\n",
              "      <td>Any potential delegators waiting on the sideli...</td>\n",
              "    </tr>\n",
              "    <tr>\n",
              "      <th>9</th>\n",
              "      <td>Cardano, the most decentralized POS blockchain...</td>\n",
              "      <td>Cardano, the most decentralized POS blockchain...</td>\n",
              "    </tr>\n",
              "  </tbody>\n",
              "</table>\n",
              "</div>"
            ],
            "text/plain": [
              "                                              Tweets                                     Cleaned_Tweets\n",
              "0  My $ALPACA price is at $10 #UnderRated \\n\\n___...  My $ALPACA price is at $10  ________@AlpacaFin...\n",
              "1  1st of April! #DOGE is pumping! PUMP SEASON is...  1st of April!  is pumping! PUMP SEASON is comi...\n",
              "2  #Cardano EPOCH 255 results for minting $ADA ht...        Cardano EPOCH 255 results for minting $ADA \n",
              "3  Cardano: Hoskinson outlines roadmap for infras...  Cardano: Hoskinson outlines roadmap for infras...\n",
              "4  Cardano: Hoskinson outlines roadmap for infras...  Cardano: Hoskinson outlines roadmap for infras...\n",
              "5  Today d = 0\\nI am so proud of being #Cardano S...  Today d = 0I am so proud of being Cardano SPO ...\n",
              "6  All the #psychedelic research supporters🍄\\nTha...  All the  research supporters🍄Thanks for joinin...\n",
              "7  Looks like PoolPeek mobile is now available in...  Looks like PoolPeek mobile is now available in...\n",
              "8  Any potential delegators waiting on the sideli...  Any potential delegators waiting on the sideli...\n",
              "9  Cardano, the most decentralized POS blockchain...  Cardano, the most decentralized POS blockchain..."
            ]
          },
          "metadata": {
            "tags": []
          },
          "execution_count": 8
        }
      ]
    },
    {
      "cell_type": "code",
      "metadata": {
        "id": "HFBhUz93SWtO",
        "colab": {
          "base_uri": "https://localhost:8080/",
          "height": 512
        },
        "outputId": "80425c68-b8e0-4590-b90d-fd69b9f332ce"
      },
      "source": [
        "#Create a function to get the subjectivity\n",
        "def getSubjectivity(twt):\n",
        "  return TextBlob(twt).sentiment.subjectivity\n",
        "#Create a function to get the polarity\n",
        "def getPolarity(twt):\n",
        "  return TextBlob(twt).sentiment.polarity\n",
        "\n",
        "#Create two new columns called subjectivity and Polarity\n",
        "df['Subjectivity'] = df['Cleaned_Tweets'].apply(getSubjectivity)\n",
        "df['Polarity'] = df['Cleaned_Tweets'].apply(getPolarity)\n",
        "\n",
        "#show\n",
        "df.head(10)"
      ],
      "execution_count": 11,
      "outputs": [
        {
          "output_type": "execute_result",
          "data": {
            "text/html": [
              "<div>\n",
              "<style scoped>\n",
              "    .dataframe tbody tr th:only-of-type {\n",
              "        vertical-align: middle;\n",
              "    }\n",
              "\n",
              "    .dataframe tbody tr th {\n",
              "        vertical-align: top;\n",
              "    }\n",
              "\n",
              "    .dataframe thead th {\n",
              "        text-align: right;\n",
              "    }\n",
              "</style>\n",
              "<table border=\"1\" class=\"dataframe\">\n",
              "  <thead>\n",
              "    <tr style=\"text-align: right;\">\n",
              "      <th></th>\n",
              "      <th>Tweets</th>\n",
              "      <th>Cleaned_Tweets</th>\n",
              "      <th>Subjectivity</th>\n",
              "      <th>Polarity</th>\n",
              "    </tr>\n",
              "  </thead>\n",
              "  <tbody>\n",
              "    <tr>\n",
              "      <th>0</th>\n",
              "      <td>My $ALPACA price is at $10 #UnderRated \\n\\n___...</td>\n",
              "      <td>My $ALPACA price is at $10  ________@AlpacaFin...</td>\n",
              "      <td>0.000</td>\n",
              "      <td>0.000</td>\n",
              "    </tr>\n",
              "    <tr>\n",
              "      <th>1</th>\n",
              "      <td>1st of April! #DOGE is pumping! PUMP SEASON is...</td>\n",
              "      <td>1st of April!  is pumping! PUMP SEASON is comi...</td>\n",
              "      <td>0.000</td>\n",
              "      <td>0.000</td>\n",
              "    </tr>\n",
              "    <tr>\n",
              "      <th>2</th>\n",
              "      <td>#Cardano EPOCH 255 results for minting $ADA ht...</td>\n",
              "      <td>Cardano EPOCH 255 results for minting $ADA</td>\n",
              "      <td>0.000</td>\n",
              "      <td>0.000</td>\n",
              "    </tr>\n",
              "    <tr>\n",
              "      <th>3</th>\n",
              "      <td>Cardano: Hoskinson outlines roadmap for infras...</td>\n",
              "      <td>Cardano: Hoskinson outlines roadmap for infras...</td>\n",
              "      <td>0.000</td>\n",
              "      <td>0.000</td>\n",
              "    </tr>\n",
              "    <tr>\n",
              "      <th>4</th>\n",
              "      <td>Cardano: Hoskinson outlines roadmap for infras...</td>\n",
              "      <td>Cardano: Hoskinson outlines roadmap for infras...</td>\n",
              "      <td>0.500</td>\n",
              "      <td>0.500</td>\n",
              "    </tr>\n",
              "    <tr>\n",
              "      <th>5</th>\n",
              "      <td>Today d = 0\\nI am so proud of being #Cardano S...</td>\n",
              "      <td>Today d = 0I am so proud of being Cardano SPO ...</td>\n",
              "      <td>0.650</td>\n",
              "      <td>1.000</td>\n",
              "    </tr>\n",
              "    <tr>\n",
              "      <th>6</th>\n",
              "      <td>All the #psychedelic research supporters🍄\\nTha...</td>\n",
              "      <td>All the  research supporters🍄Thanks for joinin...</td>\n",
              "      <td>0.000</td>\n",
              "      <td>0.000</td>\n",
              "    </tr>\n",
              "    <tr>\n",
              "      <th>7</th>\n",
              "      <td>Looks like PoolPeek mobile is now available in...</td>\n",
              "      <td>Looks like PoolPeek mobile is now available in...</td>\n",
              "      <td>0.050</td>\n",
              "      <td>0.050</td>\n",
              "    </tr>\n",
              "    <tr>\n",
              "      <th>8</th>\n",
              "      <td>Any potential delegators waiting on the sideli...</td>\n",
              "      <td>Any potential delegators waiting on the sideli...</td>\n",
              "      <td>0.775</td>\n",
              "      <td>0.175</td>\n",
              "    </tr>\n",
              "    <tr>\n",
              "      <th>9</th>\n",
              "      <td>Cardano, the most decentralized POS blockchain...</td>\n",
              "      <td>Cardano, the most decentralized POS blockchain...</td>\n",
              "      <td>0.500</td>\n",
              "      <td>0.500</td>\n",
              "    </tr>\n",
              "  </tbody>\n",
              "</table>\n",
              "</div>"
            ],
            "text/plain": [
              "                                              Tweets  ... Polarity\n",
              "0  My $ALPACA price is at $10 #UnderRated \\n\\n___...  ...    0.000\n",
              "1  1st of April! #DOGE is pumping! PUMP SEASON is...  ...    0.000\n",
              "2  #Cardano EPOCH 255 results for minting $ADA ht...  ...    0.000\n",
              "3  Cardano: Hoskinson outlines roadmap for infras...  ...    0.000\n",
              "4  Cardano: Hoskinson outlines roadmap for infras...  ...    0.500\n",
              "5  Today d = 0\\nI am so proud of being #Cardano S...  ...    1.000\n",
              "6  All the #psychedelic research supporters🍄\\nTha...  ...    0.000\n",
              "7  Looks like PoolPeek mobile is now available in...  ...    0.050\n",
              "8  Any potential delegators waiting on the sideli...  ...    0.175\n",
              "9  Cardano, the most decentralized POS blockchain...  ...    0.500\n",
              "\n",
              "[10 rows x 4 columns]"
            ]
          },
          "metadata": {
            "tags": []
          },
          "execution_count": 11
        }
      ]
    },
    {
      "cell_type": "code",
      "metadata": {
        "id": "ZLZzBpZaX3dq"
      },
      "source": [
        "#Create a function to get the sentiment text\n",
        "def getSentiment(Score):\n",
        "  if Score < 0:\n",
        "    return 'Negative'\n",
        "  elif Score == 0:\n",
        "    return 'Neutral'\n",
        "  else:\n",
        "    return 'Positive'\n",
        "\n"
      ],
      "execution_count": 19,
      "outputs": []
    },
    {
      "cell_type": "code",
      "metadata": {
        "colab": {
          "base_uri": "https://localhost:8080/",
          "height": 529
        },
        "id": "DlOwt0PjZPzt",
        "outputId": "827121ba-652a-4c37-ce45-004bc4fd08d9"
      },
      "source": [
        "# Create a column called Sentiment\n",
        "df['Sentiment'] = df['Polarity'].apply(getSentiment)\n",
        "\n",
        "#Show\n",
        "df.head(10)"
      ],
      "execution_count": 21,
      "outputs": [
        {
          "output_type": "execute_result",
          "data": {
            "text/html": [
              "<div>\n",
              "<style scoped>\n",
              "    .dataframe tbody tr th:only-of-type {\n",
              "        vertical-align: middle;\n",
              "    }\n",
              "\n",
              "    .dataframe tbody tr th {\n",
              "        vertical-align: top;\n",
              "    }\n",
              "\n",
              "    .dataframe thead th {\n",
              "        text-align: right;\n",
              "    }\n",
              "</style>\n",
              "<table border=\"1\" class=\"dataframe\">\n",
              "  <thead>\n",
              "    <tr style=\"text-align: right;\">\n",
              "      <th></th>\n",
              "      <th>Tweets</th>\n",
              "      <th>Cleaned_Tweets</th>\n",
              "      <th>Subjectivity</th>\n",
              "      <th>Polarity</th>\n",
              "      <th>Sentiment</th>\n",
              "    </tr>\n",
              "  </thead>\n",
              "  <tbody>\n",
              "    <tr>\n",
              "      <th>0</th>\n",
              "      <td>My $ALPACA price is at $10 #UnderRated \\n\\n___...</td>\n",
              "      <td>My $ALPACA price is at $10  ________@AlpacaFin...</td>\n",
              "      <td>0.000</td>\n",
              "      <td>0.000</td>\n",
              "      <td>Neutral</td>\n",
              "    </tr>\n",
              "    <tr>\n",
              "      <th>1</th>\n",
              "      <td>1st of April! #DOGE is pumping! PUMP SEASON is...</td>\n",
              "      <td>1st of April!  is pumping! PUMP SEASON is comi...</td>\n",
              "      <td>0.000</td>\n",
              "      <td>0.000</td>\n",
              "      <td>Neutral</td>\n",
              "    </tr>\n",
              "    <tr>\n",
              "      <th>2</th>\n",
              "      <td>#Cardano EPOCH 255 results for minting $ADA ht...</td>\n",
              "      <td>Cardano EPOCH 255 results for minting $ADA</td>\n",
              "      <td>0.000</td>\n",
              "      <td>0.000</td>\n",
              "      <td>Neutral</td>\n",
              "    </tr>\n",
              "    <tr>\n",
              "      <th>3</th>\n",
              "      <td>Cardano: Hoskinson outlines roadmap for infras...</td>\n",
              "      <td>Cardano: Hoskinson outlines roadmap for infras...</td>\n",
              "      <td>0.000</td>\n",
              "      <td>0.000</td>\n",
              "      <td>Neutral</td>\n",
              "    </tr>\n",
              "    <tr>\n",
              "      <th>4</th>\n",
              "      <td>Cardano: Hoskinson outlines roadmap for infras...</td>\n",
              "      <td>Cardano: Hoskinson outlines roadmap for infras...</td>\n",
              "      <td>0.500</td>\n",
              "      <td>0.500</td>\n",
              "      <td>Positive</td>\n",
              "    </tr>\n",
              "    <tr>\n",
              "      <th>5</th>\n",
              "      <td>Today d = 0\\nI am so proud of being #Cardano S...</td>\n",
              "      <td>Today d = 0I am so proud of being Cardano SPO ...</td>\n",
              "      <td>0.650</td>\n",
              "      <td>1.000</td>\n",
              "      <td>Positive</td>\n",
              "    </tr>\n",
              "    <tr>\n",
              "      <th>6</th>\n",
              "      <td>All the #psychedelic research supporters🍄\\nTha...</td>\n",
              "      <td>All the  research supporters🍄Thanks for joinin...</td>\n",
              "      <td>0.000</td>\n",
              "      <td>0.000</td>\n",
              "      <td>Neutral</td>\n",
              "    </tr>\n",
              "    <tr>\n",
              "      <th>7</th>\n",
              "      <td>Looks like PoolPeek mobile is now available in...</td>\n",
              "      <td>Looks like PoolPeek mobile is now available in...</td>\n",
              "      <td>0.050</td>\n",
              "      <td>0.050</td>\n",
              "      <td>Positive</td>\n",
              "    </tr>\n",
              "    <tr>\n",
              "      <th>8</th>\n",
              "      <td>Any potential delegators waiting on the sideli...</td>\n",
              "      <td>Any potential delegators waiting on the sideli...</td>\n",
              "      <td>0.775</td>\n",
              "      <td>0.175</td>\n",
              "      <td>Positive</td>\n",
              "    </tr>\n",
              "    <tr>\n",
              "      <th>9</th>\n",
              "      <td>Cardano, the most decentralized POS blockchain...</td>\n",
              "      <td>Cardano, the most decentralized POS blockchain...</td>\n",
              "      <td>0.500</td>\n",
              "      <td>0.500</td>\n",
              "      <td>Positive</td>\n",
              "    </tr>\n",
              "  </tbody>\n",
              "</table>\n",
              "</div>"
            ],
            "text/plain": [
              "                                              Tweets  ... Sentiment\n",
              "0  My $ALPACA price is at $10 #UnderRated \\n\\n___...  ...   Neutral\n",
              "1  1st of April! #DOGE is pumping! PUMP SEASON is...  ...   Neutral\n",
              "2  #Cardano EPOCH 255 results for minting $ADA ht...  ...   Neutral\n",
              "3  Cardano: Hoskinson outlines roadmap for infras...  ...   Neutral\n",
              "4  Cardano: Hoskinson outlines roadmap for infras...  ...  Positive\n",
              "5  Today d = 0\\nI am so proud of being #Cardano S...  ...  Positive\n",
              "6  All the #psychedelic research supporters🍄\\nTha...  ...   Neutral\n",
              "7  Looks like PoolPeek mobile is now available in...  ...  Positive\n",
              "8  Any potential delegators waiting on the sideli...  ...  Positive\n",
              "9  Cardano, the most decentralized POS blockchain...  ...  Positive\n",
              "\n",
              "[10 rows x 5 columns]"
            ]
          },
          "metadata": {
            "tags": []
          },
          "execution_count": 21
        }
      ]
    },
    {
      "cell_type": "code",
      "metadata": {
        "colab": {
          "base_uri": "https://localhost:8080/",
          "height": 405
        },
        "id": "eICNXBoEapH1",
        "outputId": "1764bfce-4444-4e50-a4c4-9912d33ca1c2"
      },
      "source": [
        "#create a scatter plot to show the subjectivity and polarity\n",
        "plt.figure(figsize=(8,6))\n",
        "for i in range(0, df.shape[0]):\n",
        "  plt.scatter(df['Polarity'][i],df['Subjectivity'][i], color ='blue')\n",
        "plt.title('Sentiment analysis Scatter Plot')\n",
        "plt.xlabel('Polarity')\n",
        "plt.ylabel('Subjectivity')\n",
        "plt.show()"
      ],
      "execution_count": 28,
      "outputs": [
        {
          "output_type": "display_data",
          "data": {
            "image/png": "[encoded data removed]",
            "text/plain": [
              "<Figure size 576x432 with 1 Axes>"
            ]
          },
          "metadata": {
            "tags": [],
            "needs_background": "light"
          }
        }
      ]
    },
    {
      "cell_type": "code",
      "metadata": {
        "colab": {
          "base_uri": "https://localhost:8080/",
          "height": 314
        },
        "id": "Rp1L1ZSkbMWU",
        "outputId": "1c409e93-cbb9-42f1-aa98-19100901f0a7"
      },
      "source": [
        "#Create a bar chart to show the count of positive, negative and neutral sentiment in the market\n",
        "df['Sentiment'].value_counts().plot(kind='bar')"
      ],
      "execution_count": 30,
      "outputs": [
        {
          "output_type": "execute_result",
          "data": {
            "text/plain": [
              "<matplotlib.axes._subplots.AxesSubplot at 0x7faa3af02a90>"
            ]
          },
          "metadata": {
            "tags": []
          },
          "execution_count": 30
        },
        {
          "output_type": "display_data",
          "data": {
            "image/png": "[encoded data removed]",
            "text/plain": [
              "<Figure size 432x288 with 1 Axes>"
            ]
          },
          "metadata": {
            "tags": [],
            "needs_background": "light"
          }
        }
      ]
    },
    {
      "cell_type": "code",
      "metadata": {
        "id": "CfLQVMU8cxy9"
      },
      "source": [
        ""
      ],
      "execution_count": null,
      "outputs": []
    }
  ]
}