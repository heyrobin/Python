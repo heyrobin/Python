{
  "nbformat": 4,
  "nbformat_minor": 0,
  "metadata": {
    "colab": {
      "name": "Webscraping Quotes website.ipynb",
      "provenance": [],
      "authorship_tag": "ABX9TyPgC5FuaE9TqY2hOa5lorvr",
      "include_colab_link": true
    },
    "kernelspec": {
      "name": "python3",
      "display_name": "Python 3"
    },
    "language_info": {
      "name": "python"
    }
  },
  "cells": [
    {
      "cell_type": "markdown",
      "metadata": {
        "id": "view-in-github",
        "colab_type": "text"
      },
      "source": [
        "<a href=\"https://colab.research.google.com/github/heyrobin/Python/blob/main/Webscraping_Quotes_website.ipynb\" target=\"_parent\"><img src=\"https://colab.research.google.com/assets/colab-badge.svg\" alt=\"Open In Colab\"/></a>"
      ]
    },
    {
      "cell_type": "code",
      "metadata": {
        "id": "5iw2oJsM-5xj"
      },
      "source": [
        "#importing the dependencies\n",
        "from bs4 import BeautifulSoup\n",
        "import pandas as pd\n",
        "import requests\n",
        "import urllib.request"
      ],
      "execution_count": 1,
      "outputs": []
    },
    {
      "cell_type": "code",
      "metadata": {
        "id": "zlRenRzJAFv6"
      },
      "source": [
        "#Columns to store the data\n",
        "Quotes = []\n",
        "Authors = []"
      ],
      "execution_count": 3,
      "outputs": []
    },
    {
      "cell_type": "code",
      "metadata": {
        "id": "Qh-hxOs7ASS7"
      },
      "source": [
        "URL = 'https://www.goodreads.com/quotes/tag/success?page=1'\n",
        "webpage = requests.get(URL)\n",
        "soup = BeautifulSoup(webpage.text, 'html.parser') \n",
        "quoteText = soup.find_all('div', attrs={'class':'quoteText'})"
      ],
      "execution_count": 5,
      "outputs": []
    },
    {
      "cell_type": "code",
      "metadata": {
        "id": "_dNyeV4hBYXy"
      },
      "source": [
        "quoteText"
      ],
      "execution_count": null,
      "outputs": []
    },
    {
      "cell_type": "code",
      "metadata": {
        "id": "hIoZXxjaBdyr"
      },
      "source": [
        "for i in quoteText:\n",
        "  quote = i.text.strip().split('\\n')[0]\n",
        "  print(quote)\n",
        "  author = i.find('span', attrs={'class':'authorOrTitle'}).text.strip()\n",
        "  print(author)"
      ],
      "execution_count": null,
      "outputs": []
    },
    {
      "cell_type": "code",
      "metadata": {
        "id": "tXHSc3RHE75T"
      },
      "source": [
        "def scrape_website(page_number):\n",
        "  page_num = str(page_number)\n",
        "  URL = 'https://www.goodreads.com/quotes/tag/success?page='+page_num\n",
        "  webpage = requests.get(URL)\n",
        "  soup = BeautifulSoup(webpage.text, 'html.parser') \n",
        "  quoteText = soup.find_all('div', attrs={'class':'quoteText'})\n",
        "\n",
        "  for i in quoteText:\n",
        "    quote = i.text.strip().split('\\n')[0]\n",
        "    author = i.find('span', attrs={'class':'authorOrTitle'}).text.strip()\n",
        "    quotes.append(quote)\n",
        "    authors.append(author)"
      ],
      "execution_count": 30,
      "outputs": []
    },
    {
      "cell_type": "code",
      "metadata": {
        "id": "nW8Jtl2IE71k"
      },
      "source": [
        ""
      ],
      "execution_count": null,
      "outputs": []
    },
    {
      "cell_type": "code",
      "metadata": {
        "id": "-WZ0nhlDBryj"
      },
      "source": [
        ""
      ],
      "execution_count": null,
      "outputs": []
    }
  ]
}