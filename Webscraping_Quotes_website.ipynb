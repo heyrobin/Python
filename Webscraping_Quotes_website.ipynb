{
  "nbformat": 4,
  "nbformat_minor": 0,
  "metadata": {
    "colab": {
      "name": "Webscraping Quotes website.ipynb",
      "provenance": [],
      "authorship_tag": "ABX9TyO6+k7+o+S6/fDAnwCP+NW6",
      "include_colab_link": true
    },
    "kernelspec": {
      "name": "python3",
      "display_name": "Python 3"
    },
    "language_info": {
      "name": "python"
    }
  },
  "cells": [
    {
      "cell_type": "markdown",
      "metadata": {
        "id": "view-in-github",
        "colab_type": "text"
      },
      "source": [
        "<a href=\"https://colab.research.google.com/github/heyrobin/Python/blob/main/Webscraping_Quotes_website.ipynb\" target=\"_parent\"><img src=\"https://colab.research.google.com/assets/colab-badge.svg\" alt=\"Open In Colab\"/></a>"
      ]
    },
    {
      "cell_type": "code",
      "metadata": {
        "id": "5iw2oJsM-5xj"
      },
      "source": [
        "#importing the dependencies\n",
        "from bs4 import BeautifulSoup\n",
        "import pandas as pd\n",
        "import requests\n",
        "import urllib.request"
      ],
      "execution_count": 1,
      "outputs": []
    },
    {
      "cell_type": "code",
      "metadata": {
        "id": "zlRenRzJAFv6"
      },
      "source": [
        "#Columns to store the data\n",
        "Quotes = []\n",
        "Authors = []"
      ],
      "execution_count": 3,
      "outputs": []
    },
    {
      "cell_type": "code",
      "metadata": {
        "id": "Qh-hxOs7ASS7"
      },
      "source": [
        "URL = 'https://www.goodreads.com/quotes/tag/success?page=1'\n",
        "webpage = requests.get(URL)\n",
        "soup = BeautifulSoup(webpage.text, 'html.parser') \n",
        "quoteText = soup.find_all('div', attrs={'class':'quoteText'})"
      ],
      "execution_count": 5,
      "outputs": []
    },
    {
      "cell_type": "code",
      "metadata": {
        "id": "_dNyeV4hBYXy"
      },
      "source": [
        "quoteText"
      ],
      "execution_count": null,
      "outputs": []
    },
    {
      "cell_type": "code",
      "metadata": {
        "colab": {
          "base_uri": "https://localhost:8080/"
        },
        "id": "hIoZXxjaBdyr",
        "outputId": "51323321-c6cf-4050-986f-b91031db6298"
      },
      "source": [
        "for i in quoteText :\n",
        "  print(i.text.strip().split('\\n')[0])"
      ],
      "execution_count": 11,
      "outputs": [
        {
          "output_type": "stream",
          "text": [
            "“Success is not final, failure is not fatal: it is the courage to continue that counts.”\n",
            "“He has achieved success who has lived well, laughed often, and loved much;Who has enjoyed the trust of pure women, the respect of intelligent men and the love of little children;Who has filled his niche and accomplished his task;Who has never lacked appreciation of Earth's beauty or failed to express it;Who has left the world better than he found it,Whether an improved poppy, a perfect poem, or a rescued soul;Who has always looked for the best in others and given them the best he had;Whose life was an inspiration;Whose memory a benediction.”\n",
            "“I can't give you a sure-fire formula for success, but I can give you a formula for failure: try to please everybody all the time.”\n",
            "“If at first you don't succeed, try, try again. Then quit. No use being a damn fool about it.”\n",
            "“Try not to become a man of success. Rather become a man of value.”\n",
            "“It is better to fail in originality than to succeed in imitation.”\n",
            "“Dare to BeWhen a new day begins, dare to smile gratefully.When there is darkness, dare to be the first to shine a light.When there is injustice, dare to be the first to condemn it.When something seems difficult, dare to do it anyway.When life seems to beat you down, dare to fight back.When there seems to be no hope, dare to find some.When you’re feeling tired, dare to keep going.When times are tough, dare to be tougher.When love hurts you, dare to love again.When someone is hurting, dare to help them heal.When another is lost, dare to help them find the way.When a friend falls, dare to be the first to extend a hand.When you cross paths with another, dare to make them smile.When you feel great, dare to help someone else feel great too.When the day has ended, dare to feel as you’ve done your best.Dare to be the best you can –At all times, Dare to be!”\n",
            "“So be sure when you step, Step with care and great tact. And remember that life's A Great Balancing Act. And will you succeed? Yes! You will, indeed! (98 and ¾ percent guaranteed) Kid, you'll move mountains.”\n",
            "“Success is getting what you want, happiness is wanting what you get”\n",
            "“Letting go means to come to the realization that some people are a part of your history, but not a part of your destiny.”\n",
            "“Success is not how high you have climbed, but how you make a positive difference to the world.”\n",
            "“Failure is the condiment that gives success its flavor.”\n",
            "“Have no fear of perfection - you'll never reach it.”\n",
            "“Success is stumbling from failure to failure with no loss of enthusiasm.”\n",
            "“Anyone whose goal is 'something higher' must expect someday to suffer vertigo. What is vertigo? Fear of falling? No, Vertigo is something other than fear of falling. It is the voice of the emptiness below us which tempts and lures us, it is the desire to fall, against which, terrified, we defend ourselves.”\n",
            "“The worst part of success is trying to find someone who is happy for you.”\n",
            "“Don't spend time beating on a wall, hoping to transform it into a door. ”\n",
            "“If A is a success in life, then A equals x plus y plus z. Work is x; y is play; and z is keeping your mouth shut”\n",
            "“Cry. Forgive. Learn. Move on. Let your tears water the seeds of your future happiness.”\n",
            "“I'm a success today because I had a friend who believed in me and I didn't have the heart to let him down.”\n",
            "“Let the improvement of yourself keep you so busy that you have no time to criticize others.”\n",
            "“The way to get started is to quit talking and begin doing. ”\n",
            "“Sometimes it takes a good fall to really know where you stand”\n",
            "“Our greatest glory is not in never falling, but in rising every time we fall.”\n",
            "“All you need in this life is ignorance and confidence; then success is sure. ”\n",
            "“Don't aim at success. The more you aim at it and make it a target, the more you are going to miss it. For success, like happiness, cannot be pursued; it must ensue, and it only does so as the unintended side effect of one's personal dedication to a cause greater than oneself or as the by-product of one's surrender to a person other than oneself. Happiness must happen, and the same holds for success: you have to let it happen by not caring about it. I want you to listen to what your conscience commands you to do and go on to carry it out to the best of your knowledge. Then you will live to see that in the long-run—in the long-run, I say!—success will follow you precisely because you had forgotten to think about it”\n",
            "“Sometimes life knocks you on your ass... get up, get up, get up!!! Happiness is not the absence of problems, it's the ability to deal with them.”\n",
            "“It is hard to fail, but it is worse never to have tried to succeed.”\n",
            "“No matter how old you are now. You are never too young or too old for success or going after what you want. Here’s a short list of people who accomplished great things at different ages1) Helen Keller, at the age of 19 months, became deaf and blind. But that didn’t stop her. She was the first deaf and blind person to earn a Bachelor of Arts degree.2) Mozart was already competent on keyboard and violin; he composed from the age of 5.3) Shirley Temple was 6 when she became a movie star on “Bright Eyes.”4) Anne Frank was 12 when she wrote the diary of Anne Frank.5) Magnus Carlsen became a chess Grandmaster at the age of 13.6) Nadia Comăneci was a gymnast from Romania that scored seven perfect 10.0 and won three gold medals at the Olympics at age 14.7) Tenzin Gyatso was formally recognized as the 14th Dalai Lama in November 1950, at the age of 15.8) Pele, a soccer superstar, was 17 years old when he won the world cup in 1958 with Brazil.9) Elvis was a superstar by age 19.10) John Lennon was 20 years and Paul Mcartney was 18 when the Beatles had their first concert in 1961.11) Jesse Owens was 22 when he won 4 gold medals in Berlin 1936.12) Beethoven was a piano virtuoso by age 2313) Issac Newton wrote Philosophiæ Naturalis Principia Mathematica at age 2414) Roger Bannister was 25 when he broke the 4 minute mile record15) Albert Einstein was 26 when he wrote the theory of relativity16) Lance E. Armstrong was 27 when he won the tour de France 17) Michelangelo created two of the greatest sculptures “David” and “Pieta” by age 2818) Alexander the Great, by age 29, had created one of the largest empires of the ancient world19) J.K. Rowling was 30 years old when she finished the first manuscript of Harry Potter20) Amelia Earhart was 31 years old when she became the first woman to fly solo across the Atlantic Ocean21) Oprah was 32 when she started her talk show, which has become the highest-rated program of its kind22) Edmund Hillary was 33 when he became the first man to reach Mount Everest23) Martin Luther King Jr. was 34 when he wrote the speech “I Have a Dream.\"24) Marie Curie was 35 years old when she got nominated for a Nobel Prize in Physics 25) The Wright brothers, Orville (32) and Wilbur (36) invented and built the world's first successful airplane and making the first controlled, powered and sustained heavier-than-air human flight26) Vincent Van Gogh was 37 when he died virtually unknown, yet his paintings today are worth millions.27) Neil Armstrong was 38 when he became the first man to set foot on the moon.28) Mark Twain was 40 when he wrote \"The Adventures of Tom Sawyer\", and 49 years old when he wrote \"Adventures of Huckleberry Finn\"29) Christopher Columbus was 41 when he discovered the Americas30) Rosa Parks was 42 when she refused to obey the bus driver’s order to give up her seat to make room for a white passenger31) John F. Kennedy was 43 years old when he became President of the United States32) Henry Ford Was 45 when the Ford T came out.33) Suzanne Collins was 46 when she wrote \"The Hunger Games\"34) Charles Darwin was 50 years old when his book On the Origin of Species came out.35) Leonardo Da Vinci was 51 years old when he painted the Mona Lisa.36) Abraham Lincoln was 52 when he became president.37) Ray Kroc Was 53 when he bought the McDonalds Franchise and took it to unprecedented levels.38) Dr. Seuss was 54 when he wrote \"The Cat in the Hat\".40) Chesley \"Sully\" Sullenberger III was 57 years old when he successfully ditched US Airways Flight 1549 in the Hudson River in 2009. All of the 155 passengers aboard the aircraft survived41) Colonel Harland Sanders was 61 when he started the KFC Franchise42) J.R.R Tolkien was 62 when the Lord of the Ring books came out43) Ronald Reagan was 69 when he became President of the US44) Jack Lalane at age 70 handcuffed, shackled, towed 70 rowboats45) Nelson Mandela was 76 when he became President”\n",
            "“How would your life be different if…You stopped making negative judgmental assumptions about people you encounter? Let today be the day…You look for the good in everyone you meet and respect their journey.”\n"
          ],
          "name": "stdout"
        }
      ]
    },
    {
      "cell_type": "code",
      "metadata": {
        "id": "-WZ0nhlDBryj"
      },
      "source": [
        ""
      ],
      "execution_count": null,
      "outputs": []
    }
  ]
}