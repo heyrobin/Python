{
 "cells": [
  {
   "cell_type": "code",
   "execution_count": null,
   "metadata": {},
   "outputs": [],
   "source": [
    "!pip install python-binance"
   ]
  },
  {
   "cell_type": "code",
   "execution_count": null,
   "metadata": {},
   "outputs": [],
   "source": [
    "pwd"
   ]
  },
  {
   "cell_type": "code",
   "execution_count": null,
   "metadata": {},
   "outputs": [],
   "source": [
    "pip install  Twisted-19.2.1-cp37-cp37m-win_amd64.whl"
   ]
  },
  {
   "cell_type": "code",
   "execution_count": null,
   "metadata": {
    "scrolled": true
   },
   "outputs": [],
   "source": [
    "pip install scrapy"
   ]
  },
  {
   "cell_type": "code",
   "execution_count": null,
   "metadata": {},
   "outputs": [],
   "source": [
    "[BINANCE]\n",
    "ACTUAL_API_KEY = <your-actual-api-v\n",
    "ACTUAL_SECRET_KEY = <your-actual-secret-key>\n"
   ]
  },
  {
   "cell_type": "code",
   "execution_count": null,
   "metadata": {},
   "outputs": [],
   "source": [
    "\n",
    "[BINANCE]\n",
    "ACTUAL_API_KEY = <your-actual-api-key>\n",
    "ACTUAL_SECRET_KEY = <your-actual-secret-key>\n",
    "TEST_API_KEY = <your-test-api-key>\n",
    "TEST_SECRET_KEY = <your-test-secret-key>"
   ]
  },
  {
   "cell_type": "code",
   "execution_count": 1,
   "metadata": {},
   "outputs": [
    {
     "name": "stdout",
     "output_type": "stream",
     "text": [
      "{'makerCommission': 0, 'takerCommission': 0, 'buyerCommission': 0, 'sellerCommission': 0, 'canTrade': True, 'canWithdraw': False, 'canDeposit': False, 'updateTime': 1614498622976, 'accountType': 'SPOT', 'balances': [{'asset': 'BNB', 'free': '1000.00000000', 'locked': '0.00000000'}, {'asset': 'BTC', 'free': '1.00000000', 'locked': '0.00000000'}, {'asset': 'BUSD', 'free': '10000.00000000', 'locked': '0.00000000'}, {'asset': 'ETH', 'free': '100.00000000', 'locked': '0.00000000'}, {'asset': 'LTC', 'free': '500.00000000', 'locked': '0.00000000'}, {'asset': 'TRX', 'free': '500000.00000000', 'locked': '0.00000000'}, {'asset': 'USDT', 'free': '10000.00000000', 'locked': '0.00000000'}, {'asset': 'XRP', 'free': '50000.00000000', 'locked': '0.00000000'}], 'permissions': ['SPOT']}\n"
     ]
    }
   ],
   "source": [
    "# Importing libraries \n",
    "from binance.client import Client\n",
    "import configparser\n",
    "\n",
    "# Loading keys from config file\n",
    "config = configparser.ConfigParser()\n",
    "config.read_file(open('E:\\Data Analysis Study\\Project\\Python-Binance-DA\\Secret.cfg'))\n",
    "test_api_key = config.get('BINANCE', 'TEST_API_KEY')\n",
    "test_secret_key = config.get('BINANCE', 'TEST_SECRET_KEY')\n",
    "\n",
    "client = Client(test_api_key, test_secret_key)\n",
    "\n",
    "client.API_URL = 'https://testnet.binance.vision/api'  # To change endpoint URL for test account  \n",
    "\n",
    "info = client.get_account()  # Getting account info\n",
    "\n",
    "print(info)"
   ]
  },
  {
   "cell_type": "code",
   "execution_count": 2,
   "metadata": {},
   "outputs": [
    {
     "name": "stdout",
     "output_type": "stream",
     "text": [
      "{'asset': 'ETH', 'free': '100.00000000', 'locked': '0.00000000'}\n"
     ]
    }
   ],
   "source": [
    "balance = client.get_asset_balance(asset='ETH')\n",
    "\n",
    "print(balance)"
   ]
  },
  {
   "cell_type": "markdown",
   "metadata": {},
   "source": [
    "<h3>2.3 Getting historical data\n"
   ]
  },
  {
   "cell_type": "code",
   "execution_count": 9,
   "metadata": {},
   "outputs": [
    {
     "name": "stdout",
     "output_type": "stream",
     "text": [
      "1502928000000\n",
      "[1503014400000, '302.00000000', '311.79000000', '283.94000000', '293.96000000', '9537.84646000', 1503100799999, '2858946.50935390', 5658, '7452.43542000', '2240813.26122640', '55329.57432378']\n"
     ]
    }
   ],
   "source": [
    "# Importing libraries \n",
    "from binance.client import Client\n",
    "import configparser\n",
    "import pandas as pd\n",
    "\n",
    "# Loading keys from config file\n",
    "config = configparser.ConfigParser()\n",
    "config.read_file(open('E:\\Data Analysis Study\\Project\\Python-Binance-DA\\Secret.cfg'))\n",
    "test_api_key = config.get('BINANCE', 'TEST_API_KEY')\n",
    "test_secret_key = config.get('BINANCE', 'TEST_SECRET_KEY')\n",
    "\n",
    "client = Client(test_api_key, test_secret_key)\n",
    "\n",
    "\n",
    "# Getting earliest timestamp availble (on Binance)\n",
    "earliest_timestamp = client._get_earliest_valid_timestamp('ETHUSDT', '1d')  # Here \"ETHUSDT\" is a trading pair and \"1d\" is time interval\n",
    "print(earliest_timestamp)\n",
    "\n",
    "# Getting historical data (candle data or kline)\n",
    "candle = client.get_historical_klines(\"ETHUSDT\", \"1d\", earliest_timestamp, limit=1000)\n",
    "\n",
    "print(candle[1])"
   ]
  },
  {
   "cell_type": "code",
   "execution_count": 10,
   "metadata": {},
   "outputs": [
    {
     "name": "stdout",
     "output_type": "stream",
     "text": [
      "                     open           high            low          close  \\\n",
      "dateTime                                                                 \n",
      "2021-02-19  1938.91000000  1972.82000000  1891.00000000  1955.00000000   \n",
      "2021-02-20  1955.46000000  2042.34000000  1803.14000000  1913.00000000   \n",
      "2021-02-21  1912.90000000  1976.31000000  1883.01000000  1933.53000000   \n",
      "2021-02-22  1933.54000000  1936.29000000  1551.00000000  1777.58000000   \n",
      "2021-02-23  1777.42000000  1782.39000000  1355.00000000  1577.89000000   \n",
      "2021-02-24  1577.79000000  1712.70000000  1500.20000000  1623.39000000   \n",
      "2021-02-25  1623.16000000  1671.59000000  1459.16000000  1481.75000000   \n",
      "2021-02-26  1482.08000000  1562.25000000  1400.00000000  1444.59000000   \n",
      "2021-02-27  1444.56000000  1529.00000000  1425.00000000  1458.13000000   \n",
      "2021-02-28  1458.27000000  1468.75000000  1313.74000000  1365.00000000   \n",
      "\n",
      "                      volume               closeTime     quoteAssetVolume  \\\n",
      "dateTime                                                                    \n",
      "2021-02-19   793404.41150000 2021-02-19 23:59:59.999  1533991632.12954610   \n",
      "2021-02-20  1261315.81279000 2021-02-20 23:59:59.999  2493836246.48714560   \n",
      "2021-02-21   756568.19743000 2021-02-21 23:59:59.999  1467970937.28507250   \n",
      "2021-02-22  1807244.98099000 2021-02-22 23:59:59.999  3200483176.97958480   \n",
      "2021-02-23  2547837.82068000 2021-02-23 23:59:59.999  3931407907.53427650   \n",
      "2021-02-24  1384388.81727000 2021-02-24 23:59:59.999  2261264845.46507440   \n",
      "2021-02-25  1032670.79409000 2021-02-25 23:59:59.999  1650582276.87186390   \n",
      "2021-02-26  1355973.29378000 2021-02-26 23:59:59.999  2004016547.11119290   \n",
      "2021-02-27   927423.04750000 2021-02-27 23:59:59.999  1375946816.33254320   \n",
      "2021-02-28   604444.77024000 2021-02-28 23:59:59.999   834517131.12305290   \n",
      "\n",
      "            numberOfTrades   takerBuyBaseVol     takerBuyQuoteVol ignore  \n",
      "dateTime                                                                  \n",
      "2021-02-19          988320   388954.85277000   752267904.16996680      0  \n",
      "2021-02-20         1329067   624716.42408000  1236782122.34460490      0  \n",
      "2021-02-21          895138   386132.26661000   749271580.57468510      0  \n",
      "2021-02-22         1799926   854014.62953000  1513747907.80303880      0  \n",
      "2021-02-23         2396626  1231889.46331000  1903489088.14390600      0  \n",
      "2021-02-24         1319936   705887.81504000  1153792817.18654230      0  \n",
      "2021-02-25         1110019   501173.65129000   802212265.45357460      0  \n",
      "2021-02-26         1298739   662906.93964000   979857228.42828460      0  \n",
      "2021-02-27          954919   452205.99129000   671100313.80011610      0  \n",
      "2021-02-28          509219   297040.35736000   409986273.50754520      0  \n"
     ]
    }
   ],
   "source": [
    "eth_df = pd.DataFrame(candle, columns=['dateTime', 'open', 'high', 'low', 'close', 'volume', 'closeTime', 'quoteAssetVolume', 'numberOfTrades', 'takerBuyBaseVol', 'takerBuyQuoteVol', 'ignore'])\n",
    "eth_df.dateTime = pd.to_datetime(eth_df.dateTime, unit='ms')\n",
    "eth_df.closeTime = pd.to_datetime(eth_df.closeTime, unit='ms')\n",
    "eth_df.set_index('dateTime', inplace=True)\n",
    "eth_df.to_csv('eth_candle.csv')\n",
    "\n",
    "print(eth_df.tail(10))"
   ]
  },
  {
   "cell_type": "code",
   "execution_count": 11,
   "metadata": {
    "scrolled": true
   },
   "outputs": [
    {
     "name": "stderr",
     "output_type": "stream",
     "text": [
      "Exception in thread Thread-8:\n",
      "Traceback (most recent call last):\n",
      "  File \"C:\\ProgramData\\Anaconda3\\lib\\threading.py\", line 932, in _bootstrap_inner\n",
      "    self.run()\n",
      "  File \"C:\\ProgramData\\Anaconda3\\lib\\site-packages\\binance\\websockets.py\", line 734, in run\n",
      "    reactor.run(installSignalHandlers=False)\n",
      "  File \"C:\\ProgramData\\Anaconda3\\lib\\site-packages\\twisted\\internet\\base.py\", line 1282, in run\n",
      "    self.startRunning(installSignalHandlers=installSignalHandlers)\n",
      "  File \"C:\\ProgramData\\Anaconda3\\lib\\site-packages\\twisted\\internet\\base.py\", line 1262, in startRunning\n",
      "    ReactorBase.startRunning(self)\n",
      "  File \"C:\\ProgramData\\Anaconda3\\lib\\site-packages\\twisted\\internet\\base.py\", line 765, in startRunning\n",
      "    raise error.ReactorNotRestartable()\n",
      "twisted.internet.error.ReactorNotRestartable\n"
     ]
    }
   ],
   "source": [
    "# Importing libraries \n",
    "from binance.client import Client\n",
    "import configparser\n",
    "from binance.websockets import BinanceSocketManager\n",
    "from twisted.internet import reactor \n",
    "\n",
    "# Loading keys from config file\n",
    "config = configparser.ConfigParser()\n",
    "config.read_file(open('E:\\Data Analysis Study\\Project\\Python-Binance-DA\\Secret.cfg'))\n",
    "test_api_key = config.get('BINANCE', 'TEST_API_KEY')\n",
    "test_secret_key = config.get('BINANCE', 'TEST_SECRET_KEY')\n",
    "\n",
    "client = Client(test_api_key, test_secret_key)\n",
    "\n",
    "def streaming_data_process(msg):\n",
    "    \"\"\"\n",
    "    Function to process the received messages\n",
    "    param msg: input message\n",
    "    \"\"\"\n",
    "    print(f\"message type: {msg['e']}\")\n",
    "    print(f\"close price: {msg['c']}\")\n",
    "    print(f\"best ask price: {msg['a']}\")\n",
    "    print(f\"best bid price: {msg['b']}\")\n",
    "    print(\"---------------------------\")\n",
    "    \n",
    "# Starting the WebSocket\n",
    "bm = BinanceSocketManager(client)\n",
    "conn_key = bm.start_symbol_ticker_socket('ETHUSDT', streaming_data_process)\n",
    "bm.start()"
   ]
  },
  {
   "cell_type": "code",
   "execution_count": 8,
   "metadata": {},
   "outputs": [
    {
     "ename": "ReactorNotRunning",
     "evalue": "Can't stop reactor that isn't running.",
     "output_type": "error",
     "traceback": [
      "\u001b[1;31m---------------------------------------------------------------------------\u001b[0m",
      "\u001b[1;31mReactorNotRunning\u001b[0m                         Traceback (most recent call last)",
      "\u001b[1;32m<ipython-input-8-38ecef419ac3>\u001b[0m in \u001b[0;36m<module>\u001b[1;34m\u001b[0m\n\u001b[0;32m      7\u001b[0m \u001b[1;33m\u001b[0m\u001b[0m\n\u001b[0;32m      8\u001b[0m \u001b[1;31m# When you need to exit\u001b[0m\u001b[1;33m\u001b[0m\u001b[1;33m\u001b[0m\u001b[1;33m\u001b[0m\u001b[0m\n\u001b[1;32m----> 9\u001b[1;33m \u001b[0mreactor\u001b[0m\u001b[1;33m.\u001b[0m\u001b[0mstop\u001b[0m\u001b[1;33m(\u001b[0m\u001b[1;33m)\u001b[0m\u001b[1;33m\u001b[0m\u001b[1;33m\u001b[0m\u001b[0m\n\u001b[0m",
      "\u001b[1;32mC:\\ProgramData\\Anaconda3\\lib\\site-packages\\twisted\\internet\\base.py\u001b[0m in \u001b[0;36mstop\u001b[1;34m(self)\u001b[0m\n\u001b[0;32m    644\u001b[0m         \"\"\"\n\u001b[0;32m    645\u001b[0m         \u001b[1;32mif\u001b[0m \u001b[0mself\u001b[0m\u001b[1;33m.\u001b[0m\u001b[0m_stopped\u001b[0m\u001b[1;33m:\u001b[0m\u001b[1;33m\u001b[0m\u001b[1;33m\u001b[0m\u001b[0m\n\u001b[1;32m--> 646\u001b[1;33m             raise error.ReactorNotRunning(\n\u001b[0m\u001b[0;32m    647\u001b[0m                 \"Can't stop reactor that isn't running.\")\n\u001b[0;32m    648\u001b[0m         \u001b[0mself\u001b[0m\u001b[1;33m.\u001b[0m\u001b[0m_stopped\u001b[0m \u001b[1;33m=\u001b[0m \u001b[1;32mTrue\u001b[0m\u001b[1;33m\u001b[0m\u001b[1;33m\u001b[0m\u001b[0m\n",
      "\u001b[1;31mReactorNotRunning\u001b[0m: Can't stop reactor that isn't running."
     ]
    }
   ],
   "source": [
    "# Stopping websocket\n",
    "bm.stop_socket(conn_key)\n",
    "\n",
    "# Websockets utilise a reactor loop from the Twisted library. Using the stop method above \n",
    "# will stop the websocket connection but it won’t stop the reactor loop so your code may \n",
    "# not exit when you expect.\n",
    "\n",
    "# When you need to exit\n",
    "reactor.stop()"
   ]
  },
  {
   "cell_type": "markdown",
   "metadata": {},
   "source": [
    "<h3>3. Building a dashboard with Plotly\n"
   ]
  },
  {
   "cell_type": "markdown",
   "metadata": {},
   "source": [
    "Installed 2 new libraries for 1st time\n",
    "<h6>pip install dash==1.19.0\n",
    "    <h6>pip install dash-bootstrap-components"
   ]
  },
  {
   "cell_type": "code",
   "execution_count": 26,
   "metadata": {},
   "outputs": [],
   "source": [
    "# Importing libraries\n",
    "import dash\n",
    "import dash_core_components as dcc\n",
    "import dash_html_components as html\n",
    "import plotly.graph_objects as go\n",
    "from dash.dependencies import Input, Output\n",
    "import dash_bootstrap_components as dbc\n",
    "from binance.client import Client\n",
    "import configparser\n",
    "from binance.websockets import BinanceSocketManager\n",
    "import time"
   ]
  },
  {
   "cell_type": "code",
   "execution_count": 27,
   "metadata": {},
   "outputs": [],
   "source": [
    "# Loading keys from config file\n",
    "config = configparser.ConfigParser()\n",
    "config.read_file(open('E:\\Data Analysis Study\\Project\\Python-Binance-DA\\Secret.cfg'))\n",
    "test_api_key = config.get('BINANCE', 'TEST_API_KEY')\n",
    "test_secret_key = config.get('BINANCE', 'TEST_SECRET_KEY')\n",
    "\n",
    "# Setting up connection\n",
    "client = Client(test_api_key, test_secret_key)\n",
    "client.API_URL = 'https://testnet.binance.vision/api'  # To change endpoint URL for test account\n",
    "\n",
    "# Getting account info to check balance\n",
    "info = client.get_account()  # Getting account info\n",
    "\n",
    "# Saving different tokens and respective quantities into lists\n",
    "assets = []\n",
    "values = []\n",
    "for index in range(len(info['balances'])):\n",
    "    for key in info['balances'][index]:\n",
    "        if key == 'asset':\n",
    "            assets.append(info['balances'][index][key])\n",
    "        if key == 'free':\n",
    "            values.append(info['balances'][index][key])\n",
    "\n",
    "\n",
    "token_usdt = {}  # Dict to hold pair price in USDT\n",
    "token_pairs = []  # List to hold different token pairs\n",
    "\n",
    "# Creating token pairs and saving into a list\n",
    "for token in assets:\n",
    "    if token != 'USDT':\n",
    "        token_pairs.append(token + 'USDT')"
   ]
  },
  {
   "cell_type": "code",
   "execution_count": 28,
   "metadata": {},
   "outputs": [],
   "source": [
    "def streaming_data_process(msg):\n",
    "    \"\"\"\n",
    "    Function to process the received messages and add latest token pair price\n",
    "    into the token_usdt dictionary\n",
    "    :param msg: input message\n",
    "    \"\"\"\n",
    "    global token_usdt\n",
    "    token_usdt[msg['s']] = msg['c']\n",
    "\n",
    "\n",
    "def total_amount_usdt(assets, values, token_usdt):\n",
    "    \"\"\"\n",
    "    Function to calculate total portfolio value in USDT\n",
    "    :param assets: Assets list\n",
    "    :param values: Assets quantity\n",
    "    :param token_usdt: Token pair price dict\n",
    "    :return: total value in USDT\n",
    "    \"\"\"\n",
    "    total_amount = 0\n",
    "    for i, token in enumerate(assets):\n",
    "        if token != 'USDT':\n",
    "            total_amount += float(values[i]) * float(\n",
    "                token_usdt[token + 'USDT'])\n",
    "        else:\n",
    "            total_amount += float(values[i]) * 1\n",
    "    return total_amount\n",
    "\n",
    "\n",
    "def total_amount_btc(assets, values, token_usdt):\n",
    "    \"\"\"\n",
    "    Function to calculate total portfolio value in BTC\n",
    "    :param assets: Assets list\n",
    "    :param values: Assets quantity\n",
    "    :param token_usdt: Token pair price dict\n",
    "    :return: total value in BTC\n",
    "    \"\"\"\n",
    "    total_amount = 0\n",
    "    for i, token in enumerate(assets):\n",
    "        if token != 'BTC' and token != 'USDT':\n",
    "            total_amount += float(values[i]) \\\n",
    "                            * float(token_usdt[token + 'USDT']) \\\n",
    "                            / float(token_usdt['BTCUSDT'])\n",
    "        if token == 'BTC':\n",
    "            total_amount += float(values[i]) * 1\n",
    "        else:\n",
    "            total_amount += float(values[i]) \\\n",
    "                            / float(token_usdt['BTCUSDT'])\n",
    "    return total_amount\n",
    "\n",
    "\n",
    "def assets_usdt(assets, values, token_usdt):\n",
    "    \"\"\"\n",
    "    Function to convert all assets into equivalent USDT value\n",
    "    :param assets: Assets list\n",
    "    :param values: Assets quantity\n",
    "    :param token_usdt: Token pair price dict\n",
    "    :return: list of asset values in USDT\n",
    "    \"\"\"\n",
    "    assets_in_usdt = []\n",
    "    for i, token in enumerate(assets):\n",
    "        if token != 'USDT':\n",
    "            assets_in_usdt.append(\n",
    "                float(values[i]) * float(token_usdt[token + 'USDT'])\n",
    "            )\n",
    "        else:\n",
    "            assets_in_usdt.append(float(values[i]) * 1)\n",
    "    return assets_in_usdt\n"
   ]
  },
  {
   "cell_type": "code",
   "execution_count": 29,
   "metadata": {},
   "outputs": [
    {
     "name": "stderr",
     "output_type": "stream",
     "text": [
      "Exception in thread Thread-15:\n",
      "Traceback (most recent call last):\n",
      "  File \"C:\\ProgramData\\Anaconda3\\lib\\threading.py\", line 932, in _bootstrap_inner\n",
      "    self.run()\n",
      "  File \"C:\\ProgramData\\Anaconda3\\lib\\site-packages\\binance\\websockets.py\", line 734, in run\n",
      "    reactor.run(installSignalHandlers=False)\n",
      "  File \"C:\\ProgramData\\Anaconda3\\lib\\site-packages\\twisted\\internet\\base.py\", line 1282, in run\n",
      "    self.startRunning(installSignalHandlers=installSignalHandlers)\n",
      "  File \"C:\\ProgramData\\Anaconda3\\lib\\site-packages\\twisted\\internet\\base.py\", line 1262, in startRunning\n",
      "    ReactorBase.startRunning(self)\n",
      "  File \"C:\\ProgramData\\Anaconda3\\lib\\site-packages\\twisted\\internet\\base.py\", line 765, in startRunning\n",
      "    raise error.ReactorNotRestartable()\n",
      "twisted.internet.error.ReactorNotRestartable\n"
     ]
    }
   ],
   "source": [
    "# Streaming data for tokens in the portfolio\n",
    "bm = BinanceSocketManager(client)\n",
    "for tokenpair in token_pairs:\n",
    "    conn_key = bm.start_symbol_ticker_socket(tokenpair, streaming_data_process)\n",
    "bm.start()\n",
    "time.sleep(5)  # To give sufficient time for all tokenpairs to establish connection"
   ]
  },
  {
   "cell_type": "code",
   "execution_count": 35,
   "metadata": {},
   "outputs": [
    {
     "ename": "KeyError",
     "evalue": "'BNBUSDT'",
     "output_type": "error",
     "traceback": [
      "\u001b[1;31m---------------------------------------------------------------------------\u001b[0m",
      "\u001b[1;31mKeyError\u001b[0m                                  Traceback (most recent call last)",
      "\u001b[1;32m<ipython-input-35-f7940a091bbb>\u001b[0m in \u001b[0;36m<module>\u001b[1;34m\u001b[0m\n\u001b[0;32m     11\u001b[0m                         go.Indicator(\n\u001b[0;32m     12\u001b[0m                             \u001b[0mmode\u001b[0m\u001b[1;33m=\u001b[0m\u001b[1;34m\"number\"\u001b[0m\u001b[1;33m,\u001b[0m\u001b[1;33m\u001b[0m\u001b[1;33m\u001b[0m\u001b[0m\n\u001b[1;32m---> 13\u001b[1;33m                             \u001b[0mvalue\u001b[0m\u001b[1;33m=\u001b[0m\u001b[0mtotal_amount_usdt\u001b[0m\u001b[1;33m(\u001b[0m\u001b[0massets\u001b[0m\u001b[1;33m,\u001b[0m \u001b[0mvalues\u001b[0m\u001b[1;33m,\u001b[0m \u001b[0mtoken_usdt\u001b[0m\u001b[1;33m)\u001b[0m\u001b[1;33m,\u001b[0m\u001b[1;33m\u001b[0m\u001b[1;33m\u001b[0m\u001b[0m\n\u001b[0m\u001b[0;32m     14\u001b[0m                         )\n\u001b[0;32m     15\u001b[0m                     ],\n",
      "\u001b[1;32m<ipython-input-28-455dcc277ae4>\u001b[0m in \u001b[0;36mtotal_amount_usdt\u001b[1;34m(assets, values, token_usdt)\u001b[0m\n\u001b[0;32m     21\u001b[0m         \u001b[1;32mif\u001b[0m \u001b[0mtoken\u001b[0m \u001b[1;33m!=\u001b[0m \u001b[1;34m'USDT'\u001b[0m\u001b[1;33m:\u001b[0m\u001b[1;33m\u001b[0m\u001b[1;33m\u001b[0m\u001b[0m\n\u001b[0;32m     22\u001b[0m             total_amount += float(values[i]) * float(\n\u001b[1;32m---> 23\u001b[1;33m                 token_usdt[token + 'USDT'])\n\u001b[0m\u001b[0;32m     24\u001b[0m         \u001b[1;32melse\u001b[0m\u001b[1;33m:\u001b[0m\u001b[1;33m\u001b[0m\u001b[1;33m\u001b[0m\u001b[0m\n\u001b[0;32m     25\u001b[0m             \u001b[0mtotal_amount\u001b[0m \u001b[1;33m+=\u001b[0m \u001b[0mfloat\u001b[0m\u001b[1;33m(\u001b[0m\u001b[0mvalues\u001b[0m\u001b[1;33m[\u001b[0m\u001b[0mi\u001b[0m\u001b[1;33m]\u001b[0m\u001b[1;33m)\u001b[0m \u001b[1;33m*\u001b[0m \u001b[1;36m1\u001b[0m\u001b[1;33m\u001b[0m\u001b[1;33m\u001b[0m\u001b[0m\n",
      "\u001b[1;31mKeyError\u001b[0m: 'BNBUSDT'"
     ]
    }
   ],
   "source": [
    "app = dash.Dash(__name__, external_stylesheets=[dbc.themes.FLATLY])\n",
    "server = app.server\n",
    "\n",
    "app.layout = html.Div([\n",
    "    html.Div([\n",
    "        html.Div([\n",
    "            dcc.Graph(\n",
    "                id='figure-1',\n",
    "                figure={\n",
    "                    'data': [\n",
    "                        go.Indicator(\n",
    "                            mode=\"number\",\n",
    "                            value=total_amount_usdt(assets, values, token_usdt),\n",
    "                        )\n",
    "                    ],\n",
    "                    'layout':\n",
    "                        go.Layout(\n",
    "                            title=\"Portfolio Value (USDT)\"\n",
    "                        )\n",
    "                }\n",
    "            )], style={'width': '30%', 'height': '300px',\n",
    "                       'display': 'inline-block'}),\n",
    "        html.Div([\n",
    "            dcc.Graph(\n",
    "                id='figure-2',\n",
    "                figure={\n",
    "                    'data': [\n",
    "                        go.Indicator(\n",
    "                            mode=\"number\",\n",
    "                            value=total_amount_btc(assets, values, token_usdt),\n",
    "                            number={'valueformat': 'g'}\n",
    "                        )\n",
    "                    ],\n",
    "                    'layout':\n",
    "                        go.Layout(\n",
    "                            title=\"Portfolio Value (BTC)\"\n",
    "                        )\n",
    "                }\n",
    "            )], style={'width': '30%', 'height': '300px',\n",
    "                       'display': 'inline-block'}),\n",
    "        html.Div([\n",
    "            dcc.Graph(\n",
    "                id='figure-3',\n",
    "                figure={\n",
    "                    'data': [\n",
    "                        go.Indicator(\n",
    "                            mode=\"number\",\n",
    "                            value=float(token_usdt['ETH']),\n",
    "                            number={'valueformat': 'g'}\n",
    "                        )\n",
    "                    ],\n",
    "                    'layout':\n",
    "                        go.Layout(\n",
    "                            title=\"BNB/USDT\"\n",
    "                        )\n",
    "                }\n",
    "            )],\n",
    "            style={'width': '30%', 'height': '300px', 'display': 'inline-block'})\n",
    "    ]),\n",
    "    html.Div([\n",
    "        html.Div([\n",
    "            dcc.Graph(\n",
    "                id='figure-4',\n",
    "                figure={\n",
    "                    'data': [\n",
    "                        go.Pie(\n",
    "                            labels=assets,\n",
    "                            values=assets_usdt(assets, values, token_usdt),\n",
    "                            hoverinfo=\"label+percent\"\n",
    "                        )\n",
    "                    ],\n",
    "                    'layout':\n",
    "                        go.Layout(\n",
    "                            title=\"Portfolio Distribution (in USDT)\"\n",
    "                        )\n",
    "                }\n",
    "            )], style={'width': '50%', 'display': 'inline-block'}),\n",
    "        html.Div([\n",
    "            dcc.Graph(\n",
    "                id='figure-5',\n",
    "                figure={\n",
    "                    'data': [\n",
    "                        go.Bar(\n",
    "                            x=assets,\n",
    "                            y=values,\n",
    "                            name=\"Token Quantities For Different Assets\",\n",
    "                        )\n",
    "                    ],\n",
    "                    'layout':\n",
    "                        go.Layout(\n",
    "                            showlegend=False,\n",
    "                            title=\"Tokens distribution\"\n",
    "                        )\n",
    "                }\n",
    "            )], style={'width': '50%', 'display': 'inline-block'}),\n",
    "        dcc.Interval(\n",
    "            id='1-second-interval',\n",
    "            interval=1000,  # 1000 milliseconds\n",
    "            n_intervals=0\n",
    "        )\n",
    "    ]),\n",
    "])\n",
    "\n",
    "\n",
    "@app.callback(Output('figure-1', 'figure'),\n",
    "              Output('figure-2', 'figure'),\n",
    "              Output('figure-3', 'figure'),\n",
    "              Output('figure-4', 'figure'),\n",
    "              Output('figure-5', 'figure'),\n",
    "              Input('1-second-interval', 'n_intervals'))\n",
    "def update_layout(n):\n",
    "    figure1 = {\n",
    "        'data': [\n",
    "            go.Indicator(\n",
    "                mode=\"number\",\n",
    "                value=total_amount_usdt(assets, values, token_usdt),\n",
    "            )\n",
    "        ],\n",
    "        'layout':\n",
    "            go.Layout(\n",
    "                title=\"Portfolio Value (USDT)\"\n",
    "            )\n",
    "    }\n",
    "    figure2 = {\n",
    "        'data': [\n",
    "            go.Indicator(\n",
    "                mode=\"number\",\n",
    "                value=total_amount_btc(assets, values, token_usdt),\n",
    "                number={'valueformat': 'g'}\n",
    "            )\n",
    "        ],\n",
    "        'layout':\n",
    "            go.Layout(\n",
    "                title=\"Portfolio Value (BTC)\"\n",
    "            )\n",
    "    }\n",
    "    figure3 = {\n",
    "        'data': [\n",
    "            go.Indicator(\n",
    "                mode=\"number\",\n",
    "                value=float(token_usdt['ETH']),\n",
    "                number={'valueformat': 'g'}\n",
    "            )\n",
    "        ],\n",
    "        'layout':\n",
    "            go.Layout(\n",
    "                title=\"BNB/USDT\"\n",
    "            )\n",
    "    }\n",
    "    figure4 = {\n",
    "        'data': [\n",
    "            go.Pie(\n",
    "                labels=assets,\n",
    "                values=assets_usdt(assets, values, token_usdt),\n",
    "                hoverinfo=\"label+percent\"\n",
    "            )\n",
    "        ],\n",
    "        'layout':\n",
    "            go.Layout(\n",
    "                title=\"Portfolio Distribution (in USDT)\"\n",
    "            )\n",
    "    }\n",
    "    figure5 = {\n",
    "        'data': [\n",
    "            go.Bar(\n",
    "                x=assets,\n",
    "                y=values,\n",
    "                name=\"Token Quantities For Different Assets\",\n",
    "            )\n",
    "        ],\n",
    "        'layout':\n",
    "            go.Layout(\n",
    "                showlegend=False,\n",
    "                title=\"Tokens distribution\"\n",
    "            )\n",
    "    }\n",
    "\n",
    "    return figure1, figure2, figure3, figure4, figure5\n",
    "\n",
    "\n",
    "if __name__ == '__main__':\n",
    "    app.run_server(host='127.0.0.1', port='8050', debug=True)"
   ]
  },
  {
   "cell_type": "code",
   "execution_count": null,
   "metadata": {},
   "outputs": [],
   "source": []
  }
 ],
 "metadata": {
  "kernelspec": {
   "display_name": "Python 3",
   "language": "python",
   "name": "python3"
  },
  "language_info": {
   "codemirror_mode": {
    "name": "ipython",
    "version": 3
   },
   "file_extension": ".py",
   "mimetype": "text/x-python",
   "name": "python",
   "nbconvert_exporter": "python",
   "pygments_lexer": "ipython3",
   "version": "3.8.5"
  }
 },
 "nbformat": 4,
 "nbformat_minor": 4
}
